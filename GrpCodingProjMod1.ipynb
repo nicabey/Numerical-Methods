{
  "nbformat": 4,
  "nbformat_minor": 0,
  "metadata": {
    "colab": {
      "name": "GrpCodingProjMod1",
      "provenance": []
    },
    "kernelspec": {
      "name": "python3",
      "display_name": "Python 3"
    }
  },
  "cells": [
    {
      "cell_type": "markdown",
      "metadata": {
        "id": "244iykBSnBYV"
      },
      "source": [
        "1. Build tools for checking error \r\n"
      ]
    },
    {
      "cell_type": "code",
      "metadata": {
        "id": "BcObW1g3pYb9"
      },
      "source": [
        "def TruError(ApproxVal, TruVal):\r\n",
        "  return (ApproxVal-TruVal)\r\n",
        "\r\n",
        "def RelError(ApproxVal, TruVal):\r\n",
        "  return TruErr(ApproxVal,TruVal)/TruVal\r\n",
        "\r\n",
        "def ApproxError(PresApprox, PrevApprox):\r\n",
        "  return PresApprox - PrevApprox\r\n",
        "\r\n",
        "def RelApproxError(PresApprox, PrevApprox):\r\n",
        "  return ApproxError(PresApprox,PrevApprox)/PresApprox\r\n",
        "  "
      ],
      "execution_count": null,
      "outputs": []
    },
    {
      "cell_type": "markdown",
      "metadata": {
        "id": "0f6sj05HuC8P"
      },
      "source": [
        "2. Use Taylor Series to compute an estimate of a non-polynomial function. You may select your own\r\n",
        "function f but center it at not zero\r\n",
        "\r\n",
        "im choosing e^x as my function because i love her. "
      ]
    },
    {
      "cell_type": "code",
      "metadata": {
        "id": "p40TwBW-uOfF"
      },
      "source": [
        "import math \r\n",
        "import numpy\r\n",
        "\r\n",
        "\r\n",
        "def GenTayCoef (n):\r\n",
        "  return math.e*1/math.factorial(n)\r\n",
        "\r\n",
        "def TPTerm (n, input):\r\n",
        "  return GenTayCoef(n)*(input-1)**(n)\r\n",
        "\r\n",
        "def TP(n,input):\r\n",
        "  sum = math.e \r\n",
        "  for i in range (0,n):\r\n",
        "    sum = sum + TPTerm(n,input)\r\n",
        "  return sum"
      ],
      "execution_count": 1,
      "outputs": []
    },
    {
      "cell_type": "code",
      "metadata": {
        "id": "VsqKDWCy9sZ1"
      },
      "source": [
        "n = [i for i in range (0,21)]\r\n",
        "values = [math.e**(1) for i in n ]\r\n",
        "estimates = [TP(x,1) for x in n]\r\n"
      ],
      "execution_count": 4,
      "outputs": []
    },
    {
      "cell_type": "code",
      "metadata": {
        "id": "GOUUWNkGLS2n"
      },
      "source": [
        ""
      ],
      "execution_count": null,
      "outputs": []
    }
  ]
}