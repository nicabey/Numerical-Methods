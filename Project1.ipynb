{
  "nbformat": 4,
  "nbformat_minor": 0,
  "metadata": {
    "colab": {
      "name": "Project1.ipynb",
      "provenance": [],
      "collapsed_sections": [],
      "include_colab_link": true
    },
    "kernelspec": {
      "name": "python3",
      "display_name": "Python 3"
    }
  },
  "cells": [
    {
      "cell_type": "markdown",
      "metadata": {
        "id": "view-in-github",
        "colab_type": "text"
      },
      "source": [
        "<a href=\"https://colab.research.google.com/github/nicabey/Numerical-Methods/blob/main/Project1.ipynb\" target=\"_parent\"><img src=\"https://colab.research.google.com/assets/colab-badge.svg\" alt=\"Open In Colab\"/></a>"
      ]
    },
    {
      "cell_type": "markdown",
      "metadata": {
        "id": "toqGrfRKEOTA"
      },
      "source": [
        "# Project Part 1 \r\n",
        "Numerical Methods SP-21\r\n",
        "\r\n",
        "Dr. Jacob \r\n",
        "\r\n",
        "Laxman Bista, Nichole Beyer, Ritu Maharjan, David Evans\r\n",
        "\r\n"
      ]
    },
    {
      "cell_type": "markdown",
      "metadata": {
        "id": "vOepRBQEYkX4"
      },
      "source": [
        "First, we have built tools for checking Error.\r\n",
        "We have defined four error functions here:\r\n",
        "- Absolute Error\r\n",
        "- Relative Error\r\n",
        "- Approximate Error\r\n",
        "- Relative Approximate Error"
      ]
    },
    {
      "cell_type": "code",
      "metadata": {
        "id": "k77iDMUxYgNV"
      },
      "source": [
        "def absolute_error(expected_value, actual_value_observed):\r\n",
        "    return actual_value_observed - expected_value\r\n",
        "def relative_error(expected_value, actual_value_observed):\r\n",
        "    return absolute_error(expected_value, actual_value_observed)/actual_value_observed\r\n",
        "def approximate_error(previous_value, current_value):\r\n",
        "    return current_value - previous_value\r\n",
        "def app_relative_error(previous_value, current_value):\r\n",
        "    return approximate_error(previous_value, current_value)/current_value"
      ],
      "execution_count": null,
      "outputs": []
    },
    {
      "cell_type": "markdown",
      "metadata": {
        "id": "E0aV-oWAdf91"
      },
      "source": [
        "Next we will compute an estimate for $\\sin x$ centered at $a = \\frac\\pi 2$.  The $n$ degree Taylor Expansion will be of the form\r\n",
        "\r\n",
        "$$\r\n",
        "f_n(x) = \\sum_{i= 0}^n\\frac{(-1)^n}{2n!} \\left(x-\\frac\\pi2\\right)^{(2n)}\r\n",
        "$$\r\n",
        "\r\n",
        "where $\\frac{d}{dx}\\sin x|_{x = \\frac \\pi 2} = \\frac{(-1)^n}{2n!}$\r\n",
        "\r\n",
        "Thus \r\n",
        "\r\n",
        "$$\r\n",
        "f_n(x) = \\sum_{i=0}^n  \\frac{\\left(-1\\right)^{n} }{2 n!}\r\n",
        "\\left(x-\\frac \\pi 2\\right)^{2n}\r\n",
        "$$\r\n",
        "\r\n",
        "Now, we will import a math package doing 'import math' so that we can execute these equations\r\n"
      ]
    },
    {
      "cell_type": "code",
      "metadata": {
        "id": "XnCkaHnAIPuD"
      },
      "source": [
        "import math\r\n",
        "pi = math.pi\r\n",
        " \r\n",
        "\r\n",
        "def taylorCoefficient(n):\r\n",
        "  return (-1)**(n)/(math.factorial(2*n))\r\n",
        "\r\n",
        "def taylorPolynomialTerms(n, input):\r\n",
        "  return taylorCoefficient(n)*((input-pi/2)**(2*n))\r\n",
        "\r\n",
        "def taylorPolynomial (n, input):\r\n",
        "  sum = 0\r\n",
        "  for i in range(0, n+1):\r\n",
        "    sum = sum + taylorPolynomialTerms(i, input)\r\n",
        "    return sum\r\n",
        "    \r\n"
      ],
      "execution_count": null,
      "outputs": []
    },
    {
      "cell_type": "markdown",
      "metadata": {
        "id": "1hInm8iEkLSu"
      },
      "source": [
        "The next section of code creates a table to display the values for errors. The package 'plotly' has been used to arrange the values into a table."
      ]
    },
    {
      "cell_type": "code",
      "metadata": {
        "id": "-yMVlCVqMtFq"
      },
      "source": [
        "\r\n",
        "n = [i for i in range(0,21)]\r\n",
        "actualValues = [math.sin(pi/2+.1) for i in n]\r\n",
        "estimateValues = [taylorPolynomial(x, pi/2 + .1) for x in n]\r\n",
        "absError = [absolute_error(estimateValues[i], actualValues[i]) for i in n]\r\n",
        "relError = [relative_error(estimateValues[i], actualValues[i]) for i in n]\r\n",
        "apxError = [approximate_error(estimateValues[i], estimateValues[i+1]) for i in range (0,19)]\r\n",
        "relApxError = [app_relative_error(estimateValues[i], estimateValues[i+1]) for i in range (0,19)]\r\n"
      ],
      "execution_count": null,
      "outputs": []
    },
    {
      "cell_type": "code",
      "metadata": {
        "colab": {
          "base_uri": "https://localhost:8080/",
          "height": 542
        },
        "id": "TJdTtK5mO0pz",
        "outputId": "a0f881e9-8918-4304-ca29-3d4227b6209c"
      },
      "source": [
        "\r\n",
        "import plotly.graph_objects as go\r\n",
        "\r\n",
        "fig = go.Figure(data=[go.Table(\r\n",
        "                header=dict(values=['Degree', 'Actual Value', 'Estimated Value','Absolute Error','Relative Error','Approximate Error','Relative Approximate Error']),\r\n",
        "                 cells=dict(values = [n,actualValues,estimateValues,absError,relError,apxError,relApxError]))\r\n",
        "                     ])\r\n",
        "fig.show()\r\n"
      ],
      "execution_count": null,
      "outputs": [
        {
          "output_type": "display_data",
          "data": {
            "text/html": [
              "<html>\n",
              "<head><meta charset=\"utf-8\" /></head>\n",
              "<body>\n",
              "    <div>\n",
              "            <script src=\"https://cdnjs.cloudflare.com/ajax/libs/mathjax/2.7.5/MathJax.js?config=TeX-AMS-MML_SVG\"></script><script type=\"text/javascript\">if (window.MathJax) {MathJax.Hub.Config({SVG: {font: \"STIX-Web\"}});}</script>\n",
              "                <script type=\"text/javascript\">window.PlotlyConfig = {MathJaxConfig: 'local'};</script>\n",
              "        <script src=\"https://cdn.plot.ly/plotly-latest.min.js\"></script>    \n",
              "            <div id=\"1afdc59e-1cea-463c-b1c3-6248ba340d06\" class=\"plotly-graph-div\" style=\"height:525px; width:100%;\"></div>\n",
              "            <script type=\"text/javascript\">\n",
              "                \n",
              "                    window.PLOTLYENV=window.PLOTLYENV || {};\n",
              "                    \n",
              "                if (document.getElementById(\"1afdc59e-1cea-463c-b1c3-6248ba340d06\")) {\n",
              "                    Plotly.newPlot(\n",
              "                        '1afdc59e-1cea-463c-b1c3-6248ba340d06',\n",
              "                        [{\"cells\": {\"values\": [[0, 1, 2, 3, 4, 5, 6, 7, 8, 9, 10, 11, 12, 13, 14, 15, 16, 17, 18, 19, 20], [0.9950041652780257, 0.9950041652780257, 0.9950041652780257, 0.9950041652780257, 0.9950041652780257, 0.9950041652780257, 0.9950041652780257, 0.9950041652780257, 0.9950041652780257, 0.9950041652780257, 0.9950041652780257, 0.9950041652780257, 0.9950041652780257, 0.9950041652780257, 0.9950041652780257, 0.9950041652780257, 0.9950041652780257, 0.9950041652780257, 0.9950041652780257, 0.9950041652780257, 0.9950041652780257], [1.0, 1.0, 1.0, 1.0, 1.0, 1.0, 1.0, 1.0, 1.0, 1.0, 1.0, 1.0, 1.0, 1.0, 1.0, 1.0, 1.0, 1.0, 1.0, 1.0, 1.0], [-0.0049958347219742905, -0.0049958347219742905, -0.0049958347219742905, -0.0049958347219742905, -0.0049958347219742905, -0.0049958347219742905, -0.0049958347219742905, -0.0049958347219742905, -0.0049958347219742905, -0.0049958347219742905, -0.0049958347219742905, -0.0049958347219742905, -0.0049958347219742905, -0.0049958347219742905, -0.0049958347219742905, -0.0049958347219742905, -0.0049958347219742905, -0.0049958347219742905, -0.0049958347219742905, -0.0049958347219742905, -0.0049958347219742905], [-0.005020918400455486, -0.005020918400455486, -0.005020918400455486, -0.005020918400455486, -0.005020918400455486, -0.005020918400455486, -0.005020918400455486, -0.005020918400455486, -0.005020918400455486, -0.005020918400455486, -0.005020918400455486, -0.005020918400455486, -0.005020918400455486, -0.005020918400455486, -0.005020918400455486, -0.005020918400455486, -0.005020918400455486, -0.005020918400455486, -0.005020918400455486, -0.005020918400455486, -0.005020918400455486], [0.0, 0.0, 0.0, 0.0, 0.0, 0.0, 0.0, 0.0, 0.0, 0.0, 0.0, 0.0, 0.0, 0.0, 0.0, 0.0, 0.0, 0.0, 0.0], [0.0, 0.0, 0.0, 0.0, 0.0, 0.0, 0.0, 0.0, 0.0, 0.0, 0.0, 0.0, 0.0, 0.0, 0.0, 0.0, 0.0, 0.0, 0.0]]}, \"header\": {\"values\": [\"Degree\", \"Actual Value\", \"Estimated Value\", \"Absolute Error\", \"Relative Error\", \"Approximate Error\", \"Relative Approximate Error\"]}, \"type\": \"table\"}],\n",
              "                        {\"template\": {\"data\": {\"bar\": [{\"error_x\": {\"color\": \"#2a3f5f\"}, \"error_y\": {\"color\": \"#2a3f5f\"}, \"marker\": {\"line\": {\"color\": \"#E5ECF6\", \"width\": 0.5}}, \"type\": \"bar\"}], \"barpolar\": [{\"marker\": {\"line\": {\"color\": \"#E5ECF6\", \"width\": 0.5}}, \"type\": \"barpolar\"}], \"carpet\": [{\"aaxis\": {\"endlinecolor\": \"#2a3f5f\", \"gridcolor\": \"white\", \"linecolor\": \"white\", \"minorgridcolor\": \"white\", \"startlinecolor\": \"#2a3f5f\"}, \"baxis\": {\"endlinecolor\": \"#2a3f5f\", \"gridcolor\": \"white\", \"linecolor\": \"white\", \"minorgridcolor\": \"white\", \"startlinecolor\": \"#2a3f5f\"}, \"type\": \"carpet\"}], \"choropleth\": [{\"colorbar\": {\"outlinewidth\": 0, \"ticks\": \"\"}, \"type\": \"choropleth\"}], \"contour\": [{\"colorbar\": {\"outlinewidth\": 0, \"ticks\": \"\"}, \"colorscale\": [[0.0, \"#0d0887\"], [0.1111111111111111, \"#46039f\"], [0.2222222222222222, \"#7201a8\"], [0.3333333333333333, \"#9c179e\"], [0.4444444444444444, \"#bd3786\"], [0.5555555555555556, \"#d8576b\"], [0.6666666666666666, \"#ed7953\"], [0.7777777777777778, \"#fb9f3a\"], [0.8888888888888888, \"#fdca26\"], [1.0, \"#f0f921\"]], \"type\": \"contour\"}], \"contourcarpet\": [{\"colorbar\": {\"outlinewidth\": 0, \"ticks\": \"\"}, \"type\": \"contourcarpet\"}], \"heatmap\": [{\"colorbar\": {\"outlinewidth\": 0, \"ticks\": \"\"}, \"colorscale\": [[0.0, \"#0d0887\"], [0.1111111111111111, \"#46039f\"], [0.2222222222222222, \"#7201a8\"], [0.3333333333333333, \"#9c179e\"], [0.4444444444444444, \"#bd3786\"], [0.5555555555555556, \"#d8576b\"], [0.6666666666666666, \"#ed7953\"], [0.7777777777777778, \"#fb9f3a\"], [0.8888888888888888, \"#fdca26\"], [1.0, \"#f0f921\"]], \"type\": \"heatmap\"}], \"heatmapgl\": [{\"colorbar\": {\"outlinewidth\": 0, \"ticks\": \"\"}, \"colorscale\": [[0.0, \"#0d0887\"], [0.1111111111111111, \"#46039f\"], [0.2222222222222222, \"#7201a8\"], [0.3333333333333333, \"#9c179e\"], [0.4444444444444444, \"#bd3786\"], [0.5555555555555556, \"#d8576b\"], [0.6666666666666666, \"#ed7953\"], [0.7777777777777778, \"#fb9f3a\"], [0.8888888888888888, \"#fdca26\"], [1.0, \"#f0f921\"]], \"type\": \"heatmapgl\"}], \"histogram\": [{\"marker\": {\"colorbar\": {\"outlinewidth\": 0, \"ticks\": \"\"}}, \"type\": \"histogram\"}], \"histogram2d\": [{\"colorbar\": {\"outlinewidth\": 0, \"ticks\": \"\"}, \"colorscale\": [[0.0, \"#0d0887\"], [0.1111111111111111, \"#46039f\"], [0.2222222222222222, \"#7201a8\"], [0.3333333333333333, \"#9c179e\"], [0.4444444444444444, \"#bd3786\"], [0.5555555555555556, \"#d8576b\"], [0.6666666666666666, \"#ed7953\"], [0.7777777777777778, \"#fb9f3a\"], [0.8888888888888888, \"#fdca26\"], [1.0, \"#f0f921\"]], \"type\": \"histogram2d\"}], \"histogram2dcontour\": [{\"colorbar\": {\"outlinewidth\": 0, \"ticks\": \"\"}, \"colorscale\": [[0.0, \"#0d0887\"], [0.1111111111111111, \"#46039f\"], [0.2222222222222222, \"#7201a8\"], [0.3333333333333333, \"#9c179e\"], [0.4444444444444444, \"#bd3786\"], [0.5555555555555556, \"#d8576b\"], [0.6666666666666666, \"#ed7953\"], [0.7777777777777778, \"#fb9f3a\"], [0.8888888888888888, \"#fdca26\"], [1.0, \"#f0f921\"]], \"type\": \"histogram2dcontour\"}], \"mesh3d\": [{\"colorbar\": {\"outlinewidth\": 0, \"ticks\": \"\"}, \"type\": \"mesh3d\"}], \"parcoords\": [{\"line\": {\"colorbar\": {\"outlinewidth\": 0, \"ticks\": \"\"}}, \"type\": \"parcoords\"}], \"pie\": [{\"automargin\": true, \"type\": \"pie\"}], \"scatter\": [{\"marker\": {\"colorbar\": {\"outlinewidth\": 0, \"ticks\": \"\"}}, \"type\": \"scatter\"}], \"scatter3d\": [{\"line\": {\"colorbar\": {\"outlinewidth\": 0, \"ticks\": \"\"}}, \"marker\": {\"colorbar\": {\"outlinewidth\": 0, \"ticks\": \"\"}}, \"type\": \"scatter3d\"}], \"scattercarpet\": [{\"marker\": {\"colorbar\": {\"outlinewidth\": 0, \"ticks\": \"\"}}, \"type\": \"scattercarpet\"}], \"scattergeo\": [{\"marker\": {\"colorbar\": {\"outlinewidth\": 0, \"ticks\": \"\"}}, \"type\": \"scattergeo\"}], \"scattergl\": [{\"marker\": {\"colorbar\": {\"outlinewidth\": 0, \"ticks\": \"\"}}, \"type\": \"scattergl\"}], \"scattermapbox\": [{\"marker\": {\"colorbar\": {\"outlinewidth\": 0, \"ticks\": \"\"}}, \"type\": \"scattermapbox\"}], \"scatterpolar\": [{\"marker\": {\"colorbar\": {\"outlinewidth\": 0, \"ticks\": \"\"}}, \"type\": \"scatterpolar\"}], \"scatterpolargl\": [{\"marker\": {\"colorbar\": {\"outlinewidth\": 0, \"ticks\": \"\"}}, \"type\": \"scatterpolargl\"}], \"scatterternary\": [{\"marker\": {\"colorbar\": {\"outlinewidth\": 0, \"ticks\": \"\"}}, \"type\": \"scatterternary\"}], \"surface\": [{\"colorbar\": {\"outlinewidth\": 0, \"ticks\": \"\"}, \"colorscale\": [[0.0, \"#0d0887\"], [0.1111111111111111, \"#46039f\"], [0.2222222222222222, \"#7201a8\"], [0.3333333333333333, \"#9c179e\"], [0.4444444444444444, \"#bd3786\"], [0.5555555555555556, \"#d8576b\"], [0.6666666666666666, \"#ed7953\"], [0.7777777777777778, \"#fb9f3a\"], [0.8888888888888888, \"#fdca26\"], [1.0, \"#f0f921\"]], \"type\": \"surface\"}], \"table\": [{\"cells\": {\"fill\": {\"color\": \"#EBF0F8\"}, \"line\": {\"color\": \"white\"}}, \"header\": {\"fill\": {\"color\": \"#C8D4E3\"}, \"line\": {\"color\": \"white\"}}, \"type\": \"table\"}]}, \"layout\": {\"annotationdefaults\": {\"arrowcolor\": \"#2a3f5f\", \"arrowhead\": 0, \"arrowwidth\": 1}, \"coloraxis\": {\"colorbar\": {\"outlinewidth\": 0, \"ticks\": \"\"}}, \"colorscale\": {\"diverging\": [[0, \"#8e0152\"], [0.1, \"#c51b7d\"], [0.2, \"#de77ae\"], [0.3, \"#f1b6da\"], [0.4, \"#fde0ef\"], [0.5, \"#f7f7f7\"], [0.6, \"#e6f5d0\"], [0.7, \"#b8e186\"], [0.8, \"#7fbc41\"], [0.9, \"#4d9221\"], [1, \"#276419\"]], \"sequential\": [[0.0, \"#0d0887\"], [0.1111111111111111, \"#46039f\"], [0.2222222222222222, \"#7201a8\"], [0.3333333333333333, \"#9c179e\"], [0.4444444444444444, \"#bd3786\"], [0.5555555555555556, \"#d8576b\"], [0.6666666666666666, \"#ed7953\"], [0.7777777777777778, \"#fb9f3a\"], [0.8888888888888888, \"#fdca26\"], [1.0, \"#f0f921\"]], \"sequentialminus\": [[0.0, \"#0d0887\"], [0.1111111111111111, \"#46039f\"], [0.2222222222222222, \"#7201a8\"], [0.3333333333333333, \"#9c179e\"], [0.4444444444444444, \"#bd3786\"], [0.5555555555555556, \"#d8576b\"], [0.6666666666666666, \"#ed7953\"], [0.7777777777777778, \"#fb9f3a\"], [0.8888888888888888, \"#fdca26\"], [1.0, \"#f0f921\"]]}, \"colorway\": [\"#636efa\", \"#EF553B\", \"#00cc96\", \"#ab63fa\", \"#FFA15A\", \"#19d3f3\", \"#FF6692\", \"#B6E880\", \"#FF97FF\", \"#FECB52\"], \"font\": {\"color\": \"#2a3f5f\"}, \"geo\": {\"bgcolor\": \"white\", \"lakecolor\": \"white\", \"landcolor\": \"#E5ECF6\", \"showlakes\": true, \"showland\": true, \"subunitcolor\": \"white\"}, \"hoverlabel\": {\"align\": \"left\"}, \"hovermode\": \"closest\", \"mapbox\": {\"style\": \"light\"}, \"paper_bgcolor\": \"white\", \"plot_bgcolor\": \"#E5ECF6\", \"polar\": {\"angularaxis\": {\"gridcolor\": \"white\", \"linecolor\": \"white\", \"ticks\": \"\"}, \"bgcolor\": \"#E5ECF6\", \"radialaxis\": {\"gridcolor\": \"white\", \"linecolor\": \"white\", \"ticks\": \"\"}}, \"scene\": {\"xaxis\": {\"backgroundcolor\": \"#E5ECF6\", \"gridcolor\": \"white\", \"gridwidth\": 2, \"linecolor\": \"white\", \"showbackground\": true, \"ticks\": \"\", \"zerolinecolor\": \"white\"}, \"yaxis\": {\"backgroundcolor\": \"#E5ECF6\", \"gridcolor\": \"white\", \"gridwidth\": 2, \"linecolor\": \"white\", \"showbackground\": true, \"ticks\": \"\", \"zerolinecolor\": \"white\"}, \"zaxis\": {\"backgroundcolor\": \"#E5ECF6\", \"gridcolor\": \"white\", \"gridwidth\": 2, \"linecolor\": \"white\", \"showbackground\": true, \"ticks\": \"\", \"zerolinecolor\": \"white\"}}, \"shapedefaults\": {\"line\": {\"color\": \"#2a3f5f\"}}, \"ternary\": {\"aaxis\": {\"gridcolor\": \"white\", \"linecolor\": \"white\", \"ticks\": \"\"}, \"baxis\": {\"gridcolor\": \"white\", \"linecolor\": \"white\", \"ticks\": \"\"}, \"bgcolor\": \"#E5ECF6\", \"caxis\": {\"gridcolor\": \"white\", \"linecolor\": \"white\", \"ticks\": \"\"}}, \"title\": {\"x\": 0.05}, \"xaxis\": {\"automargin\": true, \"gridcolor\": \"white\", \"linecolor\": \"white\", \"ticks\": \"\", \"title\": {\"standoff\": 15}, \"zerolinecolor\": \"white\", \"zerolinewidth\": 2}, \"yaxis\": {\"automargin\": true, \"gridcolor\": \"white\", \"linecolor\": \"white\", \"ticks\": \"\", \"title\": {\"standoff\": 15}, \"zerolinecolor\": \"white\", \"zerolinewidth\": 2}}}},\n",
              "                        {\"responsive\": true}\n",
              "                    ).then(function(){\n",
              "                            \n",
              "var gd = document.getElementById('1afdc59e-1cea-463c-b1c3-6248ba340d06');\n",
              "var x = new MutationObserver(function (mutations, observer) {{\n",
              "        var display = window.getComputedStyle(gd).display;\n",
              "        if (!display || display === 'none') {{\n",
              "            console.log([gd, 'removed!']);\n",
              "            Plotly.purge(gd);\n",
              "            observer.disconnect();\n",
              "        }}\n",
              "}});\n",
              "\n",
              "// Listen for the removal of the full notebook cells\n",
              "var notebookContainer = gd.closest('#notebook-container');\n",
              "if (notebookContainer) {{\n",
              "    x.observe(notebookContainer, {childList: true});\n",
              "}}\n",
              "\n",
              "// Listen for the clearing of the current output cell\n",
              "var outputEl = gd.closest('.output');\n",
              "if (outputEl) {{\n",
              "    x.observe(outputEl, {childList: true});\n",
              "}}\n",
              "\n",
              "                        })\n",
              "                };\n",
              "                \n",
              "            </script>\n",
              "        </div>\n",
              "</body>\n",
              "</html>"
            ]
          },
          "metadata": {
            "tags": []
          }
        }
      ]
    },
    {
      "cell_type": "markdown",
      "metadata": {
        "id": "db4T0RDgnHZI"
      },
      "source": [
        "From our table we see that from the beginning the approximate error and relative approximate error is zero, this seems like a pretty good approximation.  \r\n",
        "\r\n",
        "Now we will graph the function and the 5th order approximation. "
      ]
    },
    {
      "cell_type": "code",
      "metadata": {
        "colab": {
          "base_uri": "https://localhost:8080/",
          "height": 284
        },
        "id": "emmP90VqWBZD",
        "outputId": "d000c7de-43e4-43b7-e73a-06623f286d39"
      },
      "source": [
        "import matplotlib.pyplot as plt\r\n",
        "import numpy as np\r\n",
        "\r\n",
        "x = np.arange( 0,3,.001)\r\n",
        "plt.scatter(np.pi/2,1\r\n",
        "            )\r\n",
        "plt.plot(x, taylorPolynomial (5,x))\r\n",
        "plt.plot(x, np.sin(x))\r\n",
        "plt.title('Graph of Taylor Approximation Centered at ' r'$\\frac{\\pi}{2}$')\r\n",
        "plt.legend(['5th Order Taylor Polynomial', 'Sine Wave'])\r\n",
        "\r\n",
        "plt.show()\r\n"
      ],
      "execution_count": null,
      "outputs": [
        {
          "output_type": "display_data",
          "data": {
            "image/png": "[encoded data removed]",
            "text/plain": [
              "<Figure size 432x288 with 1 Axes>"
            ]
          },
          "metadata": {
            "tags": [],
            "needs_background": "light"
          }
        }
      ]
    },
    {
      "cell_type": "code",
      "metadata": {
        "colab": {
          "base_uri": "https://localhost:8080/",
          "height": 284
        },
        "id": "bsyjanTIdc0E",
        "outputId": "22ac01fc-027b-44de-f424-4484e70f3b51"
      },
      "source": [
        "import math\r\n",
        "pi = math.pi\r\n",
        "x = np.arange( -8,5,.001)\r\n",
        "plt.scatter(pi/2,1)\r\n",
        "plt.plot(x,taylorPolynomial(20,x))\r\n",
        "plt.plot(x, np.sin(x))\r\n",
        "plt.title('Graph of Taylor Approximation Centered at ' r'$\\frac{\\pi}{2}$')\r\n",
        "plt.legend(['20th Order Taylor Polynomial', 'Sine Wave'])\r\n",
        "\r\n",
        "plt.show()"
      ],
      "execution_count": null,
      "outputs": [
        {
          "output_type": "display_data",
          "data": {
            "image/png": "[encoded data removed]",
            "text/plain": [
              "<Figure size 432x288 with 1 Axes>"
            ]
          },
          "metadata": {
            "tags": [],
            "needs_background": "light"
          }
        }
      ]
    },
    {
      "cell_type": "markdown",
      "metadata": {
        "id": "K3XZp3HctVP6"
      },
      "source": [
        "We are unable to see from our table and graphs a the best place to stop the approximations, this tells us that it is necessary to extend our polynomial to the 20th dregree. Extending the function this far gives us a more accurate approximation. "
      ]
    }
  ]
}