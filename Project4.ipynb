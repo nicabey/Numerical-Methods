{
  "nbformat": 4,
  "nbformat_minor": 0,
  "metadata": {
    "colab": {
      "name": "Project4.ipynb",
      "provenance": [],
      "collapsed_sections": [],
      "include_colab_link": true
    },
    "kernelspec": {
      "name": "python3",
      "display_name": "Python 3"
    }
  },
  "cells": [
    {
      "cell_type": "markdown",
      "metadata": {
        "id": "view-in-github",
        "colab_type": "text"
      },
      "source": [
        "<a href=\"https://colab.research.google.com/github/nicabey/Numerical-Methods/blob/main/Project4.ipynb\" target=\"_parent\"><img src=\"https://colab.research.google.com/assets/colab-badge.svg\" alt=\"Open In Colab\"/></a>"
      ]
    },
    {
      "cell_type": "markdown",
      "metadata": {
        "id": "5diwVWsKjvrK"
      },
      "source": [
        "## Project 4 \r\n",
        "Numerical Methods \r\n",
        "\r\n",
        "Dr. Jacob \r\n",
        "\r\n",
        "Laxman Bista, Nichole Beyer, Ritu Mahrarjan, Sanjay Katuwal\r\n"
      ]
    },
    {
      "cell_type": "markdown",
      "metadata": {
        "id": "lqnJmg8kzQsp"
      },
      "source": [
        "# Gauss-Jordan Method"
      ]
    },
    {
      "cell_type": "markdown",
      "metadata": {
        "id": "dO1R1Ov7zV6h"
      },
      "source": [
        "Gauss-Jordan Elimination method is an algorithm that can be used to solve systems of linear equations. It also helps to find the inverse of any invertible matrix.\r\n",
        "<br>\r\n",
        "<br>\r\n",
        "-Normally, we use echelon method to finish the Gauss-Jordan Method fully.\r\n",
        "<br>\r\n",
        "<br> \r\n",
        "-We need linear equations to perform Gauss-Jordan Method. The system of linear equation is a set of two linear equations with two variables, suppose x and y. So, the linear equations are of form below:\r\n",
        "$$\r\n",
        "\\left\\{\r\n",
        "\\begin{align}\r\n",
        "a_{1,1} x_1 +&\\dots a_{1,n} x_n = y_1\\\\\r\n",
        "&\\vdots\\\\\r\n",
        "a_{n,1}x_1+&\\dots a_{n,n} x_n = y_n\r\n",
        "\\end{align}\r\n",
        "\\right\\}\r\n",
        "$$\r\n",
        "<br>\r\n",
        "Augmented Matrix: In simple words, a matrix with only the coefficients of a system of linear equation.\r\n",
        "Suppose we have a following linear equations:\r\n",
        "$$\r\n",
        "3x_1 + 2x_2 + 3x_3 = 5 ----- (equation.i) \r\n",
        "\\\\\r\n",
        "1.x_1 + 3x_2 + 5x_3 = 7 ----- (equation.ii) \r\n",
        "\\\\\r\n",
        "1.x_1 + 1.x_2 - 2x_3 = 4 ----- (equation.iii) \r\n",
        "\r\n",
        "$$\r\n",
        "The augmented matrix for the above 3 equations would be:\r\n",
        "\r\n",
        "$$\r\n",
        "\\left[\r\n",
        "\\begin{align}\r\n",
        "2 1 3\r\n",
        "\\\\\r\n",
        "13 5\r\n",
        "\\\\\r\n",
        "1 1 2\r\n",
        "\\end{align}\r\n",
        "\\right]\r\n",
        "$$\r\n",
        "\r\n"
      ]
    },
    {
      "cell_type": "code",
      "metadata": {
        "colab": {
          "base_uri": "https://localhost:8080/"
        },
        "id": "ntc6IeMPzIOZ",
        "outputId": "543cc9f4-6158-4d93-bcb6-621d673f6aa4"
      },
      "source": [
        " # importing math and numpy library\r\n",
        "import math\r\n",
        "import numpy as np\r\n",
        "\r\n",
        "# let's create our first 3*3 matrix using numpy\r\n",
        "first_array = np.array([[1,2,3],[2,3,4]])\r\n",
        "first_array"
      ],
      "execution_count": null,
      "outputs": [
        {
          "output_type": "execute_result",
          "data": {
            "text/plain": [
              "array([[1, 2, 3],\n",
              "       [2, 3, 4]])"
            ]
          },
          "metadata": {
            "tags": []
          },
          "execution_count": 95
        }
      ]
    },
    {
      "cell_type": "markdown",
      "metadata": {
        "id": "O_Oxd7F-gHh1"
      },
      "source": [
        "# Adding Row to a Matrix"
      ]
    },
    {
      "cell_type": "markdown",
      "metadata": {
        "id": "oW5E7vNmgPE3"
      },
      "source": [
        "We are using numpy.vstack to add a row of matrix in vertical sequence.\r\n",
        "<br>\r\n",
        "**Constraints** \r\n",
        "<br>\r\n",
        "-The arrays must have the same shape along all but the first axis, 1-D arrays must have the same length.\r\n",
        "<br>\r\n",
        "**Return:**\r\n",
        "<br>\r\n",
        "-The array formed by stacking the given arrays, will be at leat 2-D (stacked: ndarray)"
      ]
    },
    {
      "cell_type": "code",
      "metadata": {
        "id": "9wzMbiQvfVTP"
      },
      "source": [
        "def addingRows(matrix, row, modifyrow,n):\r\n",
        "  newRow = matrix[row, :] + n*matrix[modifyrow, :]\r\n",
        "  newMatrix = []\r\n",
        "  for i in range(len(matrix)): \r\n",
        "    if i != row:\r\n",
        "      newMatrix.append(newRow)\r\n",
        "    else:\r\n",
        "        newMatrix.append(matrix[i,:])\r\n",
        "        return np.array(newMatrix)"
      ],
      "execution_count": null,
      "outputs": []
    },
    {
      "cell_type": "code",
      "metadata": {
        "colab": {
          "base_uri": "https://localhost:8080/"
        },
        "id": "ui35YBY_u36i",
        "outputId": "272ef462-8025-43cc-c9e8-073dfa3672e0"
      },
      "source": [
        "addingRows(first_array,1,0,1)"
      ],
      "execution_count": null,
      "outputs": [
        {
          "output_type": "execute_result",
          "data": {
            "text/plain": [
              "array([[3, 5, 7],\n",
              "       [2, 3, 4]])"
            ]
          },
          "metadata": {
            "tags": []
          },
          "execution_count": 99
        }
      ]
    },
    {
      "cell_type": "code",
      "metadata": {
        "id": "J5MX29gRhAQh"
      },
      "source": [
        "##For shape of the above array, you can check with the following method:"
      ],
      "execution_count": null,
      "outputs": []
    },
    {
      "cell_type": "code",
      "metadata": {
        "colab": {
          "base_uri": "https://localhost:8080/"
        },
        "id": "4WJUCY-RhD18",
        "outputId": "ec689273-eced-4900-efa5-4f3b2c20912f"
      },
      "source": [
        "first_array.shape\r\n"
      ],
      "execution_count": null,
      "outputs": [
        {
          "output_type": "execute_result",
          "data": {
            "text/plain": [
              "(2, 3)"
            ]
          },
          "metadata": {
            "tags": []
          },
          "execution_count": 100
        }
      ]
    },
    {
      "cell_type": "markdown",
      "metadata": {
        "id": "8WKMBHhGhNa8"
      },
      "source": [
        "We can see above that we have 2*3 matrix"
      ]
    },
    {
      "cell_type": "markdown",
      "metadata": {
        "id": "CjnHEss2hrnL"
      },
      "source": [
        "# Swap rows in a Matrix\r\n",
        "\r\n",
        "lets consider a matrix:\r\n",
        "A = np.array([<br>[1,2,3],<br>\r\n",
        "              [4,5,6],<br>\r\n",
        "              [7,8,9]<br>])<br>\r\n",
        "Let's try to change row 1 indexed at '0' with 3rd row which is at 1st index\r\n"
      ]
    },
    {
      "cell_type": "code",
      "metadata": {
        "colab": {
          "base_uri": "https://localhost:8080/"
        },
        "id": "0rEA0rhIjKBm",
        "outputId": "94b09f9c-5a72-4c2f-da9b-0a26cd878d2e"
      },
      "source": [
        "A = np.array([[1,2,3],[4,5,6],[7,8,9]])\r\n",
        "A[[0,2]] = A[[2,0]]\r\n",
        "A"
      ],
      "execution_count": null,
      "outputs": [
        {
          "output_type": "execute_result",
          "data": {
            "text/plain": [
              "array([[7, 8, 9],\n",
              "       [4, 5, 6],\n",
              "       [1, 2, 3]])"
            ]
          },
          "metadata": {
            "tags": []
          },
          "execution_count": 101
        }
      ]
    },
    {
      "cell_type": "markdown",
      "metadata": {
        "id": "PLJzy2Y31OT7"
      },
      "source": [
        "# Second Method to Swap rows using Function"
      ]
    },
    {
      "cell_type": "markdown",
      "metadata": {
        "id": "UXrLbTxY6h7Q"
      },
      "source": [
        "Let's create a 2*2 matrix"
      ]
    },
    {
      "cell_type": "code",
      "metadata": {
        "id": "RXZD6WsE6fyA"
      },
      "source": [
        "B = np.array([[1,2],[3,4]])"
      ],
      "execution_count": null,
      "outputs": []
    },
    {
      "cell_type": "code",
      "metadata": {
        "id": "sZnGQrW01UPC"
      },
      "source": [
        "def swap(matrix,firstrow,secondrow):\r\n",
        "  newMatrix = []\r\n",
        "  for i in range(len(matrix)):\r\n",
        "    if i == firstrow:\r\n",
        "      newMatrix.append(matrix[secondrow,:])\r\n",
        "    elif i == secondrow:\r\n",
        "      newMatrix.append(matrix[firstrow,:])\r\n",
        "    else:\r\n",
        "      newMatrix.append(matrix[i,:])\r\n",
        "  return np.array(newMatrix)"
      ],
      "execution_count": null,
      "outputs": []
    },
    {
      "cell_type": "code",
      "metadata": {
        "colab": {
          "base_uri": "https://localhost:8080/"
        },
        "id": "H7TjtuIK8mWf",
        "outputId": "ee7da62b-4cf8-4981-ac95-3db7250aaebf"
      },
      "source": [
        "swap(B,0,1)"
      ],
      "execution_count": null,
      "outputs": [
        {
          "output_type": "execute_result",
          "data": {
            "text/plain": [
              "array([[3, 4],\n",
              "       [1, 2]])"
            ]
          },
          "metadata": {
            "tags": []
          },
          "execution_count": 104
        }
      ]
    },
    {
      "cell_type": "markdown",
      "metadata": {
        "id": "meJC505bj_vs"
      },
      "source": [
        "**Conclusion**\r\n",
        "Above, can see we used a simple logic to change the position of rows"
      ]
    },
    {
      "cell_type": "code",
      "metadata": {
        "colab": {
          "base_uri": "https://localhost:8080/"
        },
        "id": "-xzEq5nVtnyn",
        "outputId": "004fde2d-a90c-4eeb-bdf7-394fb003dee0"
      },
      "source": [
        "##Multiplying by a constant\r\n",
        "def MultiplyByConstant(matrix,row,n):\r\n",
        "  newRow = n*matrix[row, :]\r\n",
        "  newMatrix = []\r\n",
        "  for i in range(len(matrix)): \r\n",
        "    if i == 0:\r\n",
        "      newMatrix.append(newRow)\r\n",
        "    else:\r\n",
        "        newMatrix.append(matrix[i,:])\r\n",
        "        return np.array(newMatrix)\r\n",
        "\r\n",
        "## to test our code lets multiply the first row by 2 \r\n",
        "MultiplyByConstant(B,0,2)"
      ],
      "execution_count": null,
      "outputs": [
        {
          "output_type": "execute_result",
          "data": {
            "text/plain": [
              "array([[2, 4],\n",
              "       [3, 4]])"
            ]
          },
          "metadata": {
            "tags": []
          },
          "execution_count": 105
        }
      ]
    },
    {
      "cell_type": "code",
      "metadata": {
        "id": "-wP1r3084Nih",
        "colab": {
          "base_uri": "https://localhost:8080/"
        },
        "outputId": "9784b325-58fd-4f93-a6c1-0be78429033d"
      },
      "source": [
        "## the system given in the assignment written as a matrix, N. \r\n",
        "N = np.array([[1,-2,2],[2,-4,4]])\r\n",
        "N\r\n",
        "\r\n",
        "N [0][0]\r\n",
        "## the code above finds picks out an individual value in the matrix "
      ],
      "execution_count": null,
      "outputs": [
        {
          "output_type": "execute_result",
          "data": {
            "text/plain": [
              "1"
            ]
          },
          "metadata": {
            "tags": []
          },
          "execution_count": 106
        }
      ]
    },
    {
      "cell_type": "code",
      "metadata": {
        "id": "TLSUJLXMm7oo"
      },
      "source": [
        "## use gauss jordan method to put matrix into Reduced row echelon form. I think I have to make a function that does it for me. so If the first entry in the first collumn is a 1 then great, now i want the row under it to have a zero there so ill do the element of the next row will be added to the folowing row and then multipiled to give the result of a zero \r\n",
        "## lets try \r\n",
        "\r\n",
        "def toLeadingOne(matrix,row,column):\r\n",
        "  newMatrix =[]\r\n",
        "  for i in range(len(matrix)):\r\n",
        "    if i != row:\r\n",
        "      newMatrix.append(matrix[i,:])\r\n",
        "    else:\r\n",
        "      newMatrix.append(1/matrix[row,column]*matrix[row,:])\r\n",
        "  return np.array(newMatrix)\r\n"
      ],
      "execution_count": null,
      "outputs": []
    },
    {
      "cell_type": "code",
      "metadata": {
        "colab": {
          "base_uri": "https://localhost:8080/"
        },
        "id": "4_niomf5E2ud",
        "outputId": "47e20dd9-a63f-426c-e8dd-c76293d9e553"
      },
      "source": [
        "toLeadingOne(A,1,0)"
      ],
      "execution_count": null,
      "outputs": [
        {
          "output_type": "execute_result",
          "data": {
            "text/plain": [
              "array([[1.  , 2.  , 3.  ],\n",
              "       [1.  , 1.25, 1.5 ],\n",
              "       [7.  , 8.  , 9.  ]])"
            ]
          },
          "metadata": {
            "tags": []
          },
          "execution_count": 75
        }
      ]
    },
    {
      "cell_type": "markdown",
      "metadata": {
        "id": "XZWAC19Knkfb"
      },
      "source": [
        "Now lets use a Gauss Jordan Method"
      ]
    },
    {
      "cell_type": "code",
      "metadata": {
        "id": "38Wlrd1GFhxI"
      },
      "source": [
        "A = np.array([[1,2,3],[2,3,4]])\r\n"
      ],
      "execution_count": null,
      "outputs": []
    },
    {
      "cell_type": "code",
      "metadata": {
        "id": "cC1RTTZbnouo"
      },
      "source": [
        "def gaussJordan(matrix):\r\n",
        "  newMatrix = matrix\r\n",
        "  for pivot in range(len(matrix)):\r\n",
        "    newMatrix = toLeadingOne(newMatrix,pivot,pivot)\r\n",
        "    for column in range(0,pivot):\r\n",
        "      newMatrix = addingRows(newMatrix,column,pivot,-newMatrix[column,pivot])\r\n",
        "    for column in range(pivot+1,len(matrix)):\r\n",
        "      newMatrix = addingRows(newMatrix,column,pivot,-newMatrix[column,pivot])\r\n",
        "  return newMatrix"
      ],
      "execution_count": null,
      "outputs": []
    },
    {
      "cell_type": "code",
      "metadata": {
        "colab": {
          "base_uri": "https://localhost:8080/"
        },
        "id": "bGsw8Q82S8P3",
        "outputId": "a030e1d6-d832-41a1-e667-8db186455601"
      },
      "source": [
        "gaussJordan(A)"
      ],
      "execution_count": null,
      "outputs": [
        {
          "output_type": "execute_result",
          "data": {
            "text/plain": [
              "array([[ 0., -1., -2.]])"
            ]
          },
          "metadata": {
            "tags": []
          },
          "execution_count": 124
        }
      ]
    },
    {
      "cell_type": "code",
      "metadata": {
        "id": "hTtD-PDcTutt"
      },
      "source": [
        "B = np.array([[1,2,3,4],[2,3,4,5],[3,4,5,6]])"
      ],
      "execution_count": null,
      "outputs": []
    },
    {
      "cell_type": "code",
      "metadata": {
        "colab": {
          "base_uri": "https://localhost:8080/",
          "height": 265
        },
        "id": "781AWFV1Twii",
        "outputId": "0eaadf98-002c-4dbd-805d-9f48b240cbd1"
      },
      "source": [
        "gaussJordan(B)"
      ],
      "execution_count": null,
      "outputs": [
        {
          "output_type": "error",
          "ename": "IndexError",
          "evalue": "ignored",
          "traceback": [
            "\u001b[0;31m---------------------------------------------------------------------------\u001b[0m",
            "\u001b[0;31mIndexError\u001b[0m                                Traceback (most recent call last)",
            "\u001b[0;32m<ipython-input-125-d89a9440fea9>\u001b[0m in \u001b[0;36m<module>\u001b[0;34m()\u001b[0m\n\u001b[0;32m----> 1\u001b[0;31m \u001b[0mgaussJordan\u001b[0m\u001b[0;34m(\u001b[0m\u001b[0mB\u001b[0m\u001b[0;34m)\u001b[0m\u001b[0;34m\u001b[0m\u001b[0;34m\u001b[0m\u001b[0m\n\u001b[0m",
            "\u001b[0;32m<ipython-input-123-931f6f07770a>\u001b[0m in \u001b[0;36mgaussJordan\u001b[0;34m(matrix)\u001b[0m\n\u001b[1;32m      6\u001b[0m       \u001b[0mnewMatrix\u001b[0m \u001b[0;34m=\u001b[0m \u001b[0maddingRows\u001b[0m\u001b[0;34m(\u001b[0m\u001b[0mnewMatrix\u001b[0m\u001b[0;34m,\u001b[0m\u001b[0mcolumn\u001b[0m\u001b[0;34m,\u001b[0m\u001b[0mpivot\u001b[0m\u001b[0;34m,\u001b[0m\u001b[0;34m-\u001b[0m\u001b[0mnewMatrix\u001b[0m\u001b[0;34m[\u001b[0m\u001b[0mcolumn\u001b[0m\u001b[0;34m,\u001b[0m\u001b[0mpivot\u001b[0m\u001b[0;34m]\u001b[0m\u001b[0;34m)\u001b[0m\u001b[0;34m\u001b[0m\u001b[0;34m\u001b[0m\u001b[0m\n\u001b[1;32m      7\u001b[0m     \u001b[0;32mfor\u001b[0m \u001b[0mcolumn\u001b[0m \u001b[0;32min\u001b[0m \u001b[0mrange\u001b[0m\u001b[0;34m(\u001b[0m\u001b[0mpivot\u001b[0m\u001b[0;34m+\u001b[0m\u001b[0;36m1\u001b[0m\u001b[0;34m,\u001b[0m\u001b[0mlen\u001b[0m\u001b[0;34m(\u001b[0m\u001b[0mmatrix\u001b[0m\u001b[0;34m)\u001b[0m\u001b[0;34m)\u001b[0m\u001b[0;34m:\u001b[0m\u001b[0;34m\u001b[0m\u001b[0;34m\u001b[0m\u001b[0m\n\u001b[0;32m----> 8\u001b[0;31m       \u001b[0mnewMatrix\u001b[0m \u001b[0;34m=\u001b[0m \u001b[0maddingRows\u001b[0m\u001b[0;34m(\u001b[0m\u001b[0mnewMatrix\u001b[0m\u001b[0;34m,\u001b[0m\u001b[0mcolumn\u001b[0m\u001b[0;34m,\u001b[0m\u001b[0mpivot\u001b[0m\u001b[0;34m,\u001b[0m\u001b[0;34m-\u001b[0m\u001b[0mnewMatrix\u001b[0m\u001b[0;34m[\u001b[0m\u001b[0mcolumn\u001b[0m\u001b[0;34m,\u001b[0m\u001b[0mpivot\u001b[0m\u001b[0;34m]\u001b[0m\u001b[0;34m)\u001b[0m\u001b[0;34m\u001b[0m\u001b[0;34m\u001b[0m\u001b[0m\n\u001b[0m\u001b[1;32m      9\u001b[0m   \u001b[0;32mreturn\u001b[0m \u001b[0mnewMatrix\u001b[0m\u001b[0;34m\u001b[0m\u001b[0;34m\u001b[0m\u001b[0m\n",
            "\u001b[0;31mIndexError\u001b[0m: index 2 is out of bounds for axis 0 with size 2"
          ]
        }
      ]
    },
    {
      "cell_type": "code",
      "metadata": {
        "colab": {
          "base_uri": "https://localhost:8080/"
        },
        "id": "eyMDvNJiZ2st",
        "outputId": "2fa19e49-ec0c-48eb-aeb6-d81f9c2688db"
      },
      "source": [
        "B = addingRows(B,1,0,-2)\r\n",
        "B"
      ],
      "execution_count": null,
      "outputs": [
        {
          "output_type": "execute_result",
          "data": {
            "text/plain": [
              "array([[ 0, -1, -2, -3],\n",
              "       [ 2,  3,  4,  5]])"
            ]
          },
          "metadata": {
            "tags": []
          },
          "execution_count": 126
        }
      ]
    },
    {
      "cell_type": "code",
      "metadata": {
        "colab": {
          "base_uri": "https://localhost:8080/"
        },
        "id": "-KoSw-NCaCpZ",
        "outputId": "e8b867fd-6cbb-43eb-e9d3-d8329475951c"
      },
      "source": [
        "B = addingRows(B,1,0,-1)\r\n",
        "B"
      ],
      "execution_count": null,
      "outputs": [
        {
          "output_type": "execute_result",
          "data": {
            "text/plain": [
              "array([[2, 4, 6, 8],\n",
              "       [2, 3, 4, 5]])"
            ]
          },
          "metadata": {
            "tags": []
          },
          "execution_count": 127
        }
      ]
    },
    {
      "cell_type": "code",
      "metadata": {
        "colab": {
          "base_uri": "https://localhost:8080/"
        },
        "id": "p1jm_9x2IFDy",
        "outputId": "7ec13b7d-739b-4629-8e42-8e51c3665dad"
      },
      "source": [
        "##now preforming the gauss Jordan method on the matrix given in the assignment defined as N\r\n",
        "\r\n",
        "gaussJordan(N)"
      ],
      "execution_count": null,
      "outputs": [
        {
          "output_type": "execute_result",
          "data": {
            "text/plain": [
              "array([[0., 0., 0.]])"
            ]
          },
          "metadata": {
            "tags": []
          },
          "execution_count": 128
        }
      ]
    },
    {
      "cell_type": "markdown",
      "metadata": {
        "id": "Tu691DqiV-Iq"
      },
      "source": [
        "So it doesnt look look like the gauss Jordan method is working. Not sure why but it may have something to do with the entire row of zeros being on the top.\r\n",
        "Lets do it ourselves its simple, just add 2* row 1 to row 2 and then the matrix should be in reduced row echelon form."
      ]
    },
    {
      "cell_type": "code",
      "metadata": {
        "colab": {
          "base_uri": "https://localhost:8080/"
        },
        "id": "RfibUU0kdEV0",
        "outputId": "c3655a68-4935-49b6-a717-c164b6423ed4"
      },
      "source": [
        "addingRows(A,0,1,1)"
      ],
      "execution_count": null,
      "outputs": [
        {
          "output_type": "execute_result",
          "data": {
            "text/plain": [
              "array([[1, 2, 3]])"
            ]
          },
          "metadata": {
            "tags": []
          },
          "execution_count": 129
        }
      ]
    },
    {
      "cell_type": "markdown",
      "metadata": {
        "id": "_jBSD725hhWt"
      },
      "source": [
        "The last row is all zeros so the code doesnt include it after preformong the operation. "
      ]
    },
    {
      "cell_type": "markdown",
      "metadata": {
        "id": "sxm-CWjt-AFS"
      },
      "source": [
        "# Computing Inverses"
      ]
    },
    {
      "cell_type": "markdown",
      "metadata": {
        "id": "xENWr3OI-Iny"
      },
      "source": [
        "We can get inverse by aumenting the identity matrix and perform operations util we get the inverse\r\n",
        "$$\r\n",
        "\\left[A|I\\right] \\to \\left[I|A^{-1}\\right]\r\n",
        "$$\r\n",
        "\r\n",
        "Let's try it on \r\n",
        "$$\r\n",
        "A=\\left[\r\n",
        "\\begin{array}{cc}\r\n",
        "5&6\\\\\r\n",
        "7&8\r\n",
        "\\end{array}\r\n",
        "\\right]\r\n",
        "$$\r\n"
      ]
    },
    {
      "cell_type": "code",
      "metadata": {
        "id": "OIpOTHGr-fN0"
      },
      "source": [
        "C = np.array([[1,2,1,0],[3,4,0,1]])"
      ],
      "execution_count": null,
      "outputs": []
    },
    {
      "cell_type": "code",
      "metadata": {
        "colab": {
          "base_uri": "https://localhost:8080/"
        },
        "id": "p230vBNG-hR4",
        "outputId": "2419da4d-e143-4f10-bc5b-2a8c2253adbb"
      },
      "source": [
        "gaussJordan(C)"
      ],
      "execution_count": null,
      "outputs": [
        {
          "output_type": "execute_result",
          "data": {
            "text/plain": [
              "array([[ 0., -2., -3.,  1.]])"
            ]
          },
          "metadata": {
            "tags": []
          },
          "execution_count": 131
        }
      ]
    },
    {
      "cell_type": "code",
      "metadata": {
        "id": "l9EvpxQBAP61"
      },
      "source": [
        "inverse = np.array([[-2,1],[1.5,-.5]])\r\n",
        "newArray = np.array([[1,2],[3,4]])"
      ],
      "execution_count": null,
      "outputs": []
    },
    {
      "cell_type": "code",
      "metadata": {
        "colab": {
          "base_uri": "https://localhost:8080/"
        },
        "id": "ofAU1B3jAWXC",
        "outputId": "2f474f53-bd39-4c6a-aa4b-816e47befac9"
      },
      "source": [
        "newArray @ inverse"
      ],
      "execution_count": null,
      "outputs": [
        {
          "output_type": "execute_result",
          "data": {
            "text/plain": [
              "array([[1., 0.],\n",
              "       [0., 1.]])"
            ]
          },
          "metadata": {
            "tags": []
          },
          "execution_count": 132
        }
      ]
    },
    {
      "cell_type": "markdown",
      "metadata": {
        "id": "UbQrRMllF8r_"
      },
      "source": [
        "Nice we can see our code is working and we got the inverse for the matrix.\r\n"
      ]
    },
    {
      "cell_type": "markdown",
      "metadata": {
        "id": "3JOYU2Z6GTpp"
      },
      "source": [
        "# Using some packages in Python"
      ]
    },
    {
      "cell_type": "markdown",
      "metadata": {
        "id": "g1Sa3wDQGZwP"
      },
      "source": [
        "Let's use a package called scipy for scientific computation in python.\r\n",
        "Here, linalg means linear algebra"
      ]
    },
    {
      "cell_type": "code",
      "metadata": {
        "colab": {
          "base_uri": "https://localhost:8080/"
        },
        "id": "LHD1HF5PGj7z",
        "outputId": "64a695d6-79cf-41e3-f51c-b051a6784826"
      },
      "source": [
        "import scipy.linalg as la\r\n",
        "\r\n",
        "la.inv(newArray)"
      ],
      "execution_count": null,
      "outputs": [
        {
          "output_type": "execute_result",
          "data": {
            "text/plain": [
              "array([[-2. ,  1. ],\n",
              "       [ 1.5, -0.5]])"
            ]
          },
          "metadata": {
            "tags": []
          },
          "execution_count": 133
        }
      ]
    },
    {
      "cell_type": "markdown",
      "metadata": {
        "id": "1v7EJ3qRG3rc"
      },
      "source": [
        "Providing the equation with the coefficient and solutions"
      ]
    },
    {
      "cell_type": "code",
      "metadata": {
        "colab": {
          "base_uri": "https://localhost:8080/"
        },
        "id": "-OvRucNFGzF8",
        "outputId": "a3296f6a-a687-4f23-8d3b-b3d30c09c491"
      },
      "source": [
        "la.solve(A[:,:2],A[:,2])"
      ],
      "execution_count": null,
      "outputs": [
        {
          "output_type": "execute_result",
          "data": {
            "text/plain": [
              "array([-1.,  2.])"
            ]
          },
          "metadata": {
            "tags": []
          },
          "execution_count": 134
        }
      ]
    },
    {
      "cell_type": "markdown",
      "metadata": {
        "id": "LVp_1ytRHEFW"
      },
      "source": [
        "# Fix our Gauss-Jordan"
      ]
    },
    {
      "cell_type": "markdown",
      "metadata": {
        "id": "Nb9B5aEhIQoS"
      },
      "source": [
        "In order to fix this issue we will work with the pivot.\r\n"
      ]
    },
    {
      "cell_type": "code",
      "metadata": {
        "id": "exs1mOn4IHVk"
      },
      "source": [
        "def findLargestPivot(matrix, column):\r\n",
        "  vec = matrix[column:,column]\r\n",
        "  vec = np.abs(vec)\r\n",
        "  row = np.where(vec == max(vec))\r\n",
        "  return row[0][0]+column"
      ],
      "execution_count": null,
      "outputs": []
    },
    {
      "cell_type": "code",
      "metadata": {
        "colab": {
          "base_uri": "https://localhost:8080/"
        },
        "id": "2scOwcs9IKX7",
        "outputId": "ca99eed4-5b3d-4011-f1d0-0fcebd55e30b"
      },
      "source": [
        "vec = np.array([[1,2,-4],[-2,-5,2]])\r\n",
        "np.abs(vec)"
      ],
      "execution_count": null,
      "outputs": [
        {
          "output_type": "execute_result",
          "data": {
            "text/plain": [
              "array([[1, 2, 4],\n",
              "       [2, 5, 2]])"
            ]
          },
          "metadata": {
            "tags": []
          },
          "execution_count": 137
        }
      ]
    },
    {
      "cell_type": "code",
      "metadata": {
        "colab": {
          "base_uri": "https://localhost:8080/"
        },
        "id": "yyyjKmTnILxU",
        "outputId": "5998f2eb-1b9a-4fe2-9f49-0d81fe83d44f"
      },
      "source": [
        "findLargestPivot(vec,1)"
      ],
      "execution_count": null,
      "outputs": [
        {
          "output_type": "execute_result",
          "data": {
            "text/plain": [
              "1"
            ]
          },
          "metadata": {
            "tags": []
          },
          "execution_count": 138
        }
      ]
    },
    {
      "cell_type": "markdown",
      "metadata": {
        "id": "tsKOguH3I1yp"
      },
      "source": [
        "Let's make our row the leading one and follow the above functions"
      ]
    },
    {
      "cell_type": "code",
      "metadata": {
        "id": "ecRwtIMkI8cb"
      },
      "source": [
        "def gaussJordan2(matrix):\r\n",
        "  newMatrix = matrix\r\n",
        "  for pivot in range(len(matrix)):\r\n",
        "    newpivot = findLargestPivot(newMatrix,pivot)\r\n",
        "    newMatrix = swap(newMatrix,newpivot,pivot)\r\n",
        "    newMatrix = toLeadingOne(newMatrix,pivot,pivot)\r\n",
        "    for column in range(0,pivot):\r\n",
        "      newMatrix = addingRows(newMatrix,column,pivot,-newMatrix[column,pivot])\r\n",
        "    for column in range(pivot+1,len(matrix)):\r\n",
        "      newMatrix = addingRows(newMatrix,column,pivot,-newMatrix[column,pivot])\r\n",
        "  return newMatrix"
      ],
      "execution_count": null,
      "outputs": []
    },
    {
      "cell_type": "code",
      "metadata": {
        "colab": {
          "base_uri": "https://localhost:8080/"
        },
        "id": "C6mVAYjFI-b1",
        "outputId": "fdc4975b-25b5-48e9-801a-7af2bd631699"
      },
      "source": [
        "gaussJordan2(vec)"
      ],
      "execution_count": null,
      "outputs": [
        {
          "output_type": "execute_result",
          "data": {
            "text/plain": [
              "array([[ 0. , -0.5, -3. ]])"
            ]
          },
          "metadata": {
            "tags": []
          },
          "execution_count": 144
        }
      ]
    },
    {
      "cell_type": "markdown",
      "metadata": {
        "id": "7CaKWAJLJSlW"
      },
      "source": [
        "The main obstacle in this work is working with pivot and columns which are fresh and does not have a leading ones. Gauss jordan's method has useful algorithm's we can make use of."
      ]
    }
  ]
}