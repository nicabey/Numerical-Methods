{
  "nbformat": 4,
  "nbformat_minor": 0,
  "metadata": {
    "colab": {
      "name": "Project5.ipynb",
      "provenance": [],
      "collapsed_sections": [],
      "include_colab_link": true
    },
    "kernelspec": {
      "name": "python3",
      "display_name": "Python 3"
    }
  },
  "cells": [
    {
      "cell_type": "markdown",
      "metadata": {
        "id": "view-in-github",
        "colab_type": "text"
      },
      "source": [
        "<a href=\"https://colab.research.google.com/github/nicabey/Numerical-Methods/blob/main/Project5.ipynb\" target=\"_parent\"><img src=\"https://colab.research.google.com/assets/colab-badge.svg\" alt=\"Open In Colab\"/></a>"
      ]
    },
    {
      "cell_type": "markdown",
      "metadata": {
        "id": "58YDxSjzDP7_"
      },
      "source": [
        "# Project Module 5\r\n",
        "\r\n",
        "Numerical Methods \r\n",
        "\r\n",
        "Dr. Jacob\r\n",
        "\r\n",
        "Laxman Bista, Nichole Beyer, Ritu Mahajan, Sanjay Katuwal\r\n"
      ]
    },
    {
      "cell_type": "markdown",
      "metadata": {
        "id": "ITBZRjeUDO5c"
      },
      "source": [
        "We are using the Gauss-Jordan algorithm from Project Part 4. Then we will apply the direct interpolation method to creat a polynomial going through at lease five unique points on our function from project 1."
      ]
    },
    {
      "cell_type": "code",
      "metadata": {
        "id": "LmXsMafsDHxx"
      },
      "source": [
        "import math\r\n",
        "import numpy as np\r\n",
        "import scipy.linalg as la\r\n",
        "\r\n",
        "def addRows(matrix,targetRow, modifierRow, value):\r\n",
        "  newRow = matrix[targetRow,:]+value*matrix[modifierRow,:]\r\n",
        "  newMatrix = []\r\n",
        "  for i in range(len(matrix)):\r\n",
        "    if i != targetRow:\r\n",
        "      newMatrix.append(matrix[i,:])\r\n",
        "    else:\r\n",
        "      newMatrix.append(newRow)\r\n",
        "  return np.array(newMatrix)\r\n",
        "\r\n",
        "\r\n",
        "def changeToLeadingOne(matrix,row,column):\r\n",
        "  newMatrix =[]\r\n",
        "  for i in range(len(matrix)):\r\n",
        "    if i != row:\r\n",
        "      newMatrix.append(matrix[i,:])\r\n",
        "    else:\r\n",
        "      newMatrix.append(1/matrix[row,column]*matrix[row,:])\r\n",
        "  return np.array(newMatrix)\r\n",
        "\r\n",
        "\r\n",
        "def gaussJordan(matrix):\r\n",
        "  newMatrix = matrix\r\n",
        "  for pivot in range(len(matrix)):\r\n",
        "    newMatrix = changeToLeadingOne(newMatrix,pivot,pivot)\r\n",
        "    for column in range(0,pivot):\r\n",
        "      newMatrix = addRows(newMatrix,column,pivot,-newMatrix[column,pivot])\r\n",
        "    for column in range(pivot+1,len(matrix)):\r\n",
        "      newMatrix = addRows(newMatrix,column,pivot,-newMatrix[column,pivot])\r\n",
        "  return newMatrix"
      ],
      "execution_count": null,
      "outputs": []
    },
    {
      "cell_type": "markdown",
      "metadata": {
        "id": "kzat7cidDqhm"
      },
      "source": [
        "# Direct Method of Interpolation"
      ]
    },
    {
      "cell_type": "markdown",
      "metadata": {
        "id": "6wdN-C4UF394"
      },
      "source": [
        "We are using polynomial to solve the direct method of Interpolation. Polynomials are the most common choice of interpolants because they are easy to evaluate, integrate and differentiate.\r\n",
        "For Direct method,\r\n",
        "Given, 'n+1' data points $(x_0,y_0), (x_1,y_1), ...... (x_n,y_n)$, pass a polynomial of order 'n' through the data as given below:\r\n",
        "y = $$a_0 + a_1x + ....... + a_nx^n  ----- (eq^i)$$\r\n",
        "where $a_0,a_1,.....a_n$ are real constants.\r\n",
        "- Set up 'n+1' equations to find 'n+1' constants\r\n",
        "- To Find the value 'y' at a given value of 'x',\r\n",
        "simply sibstutite the value of 'x' in the above polynomial\r\n",
        "<br>\r\n",
        "<br> \r\n",
        "let's suppose we are given with the 5 unique points $(x_0,y_0),(x_1,y_1),(x_2,y_2),(x_3,y_3),(x_4,y_4) $,  $(eq^i)$ becomes, <br>\r\n",
        "$$\r\n",
        "a_0+a_1x_0+a_2 x_0^2+\\cdots +a_n x_0^n = y_0 \r\n",
        "$$\r\n",
        "<br>\r\n",
        "$$\r\n",
        "a_0+a_1x_1+a_2 x_1^2+\\cdots +a_n x_1^n = y_1 \r\n",
        "$$\r\n",
        "<br>\r\n",
        "$$\r\n",
        "a_0+a_1x_2+a_2 x_2^2+\\cdots +a_n x_2^n = y_2\r\n",
        "$$\r\n",
        "<br>\r\n",
        "$$\r\n",
        "a_0+a_1x_3+a_2 x_3^2+\\cdots +a_n x_3^n = y_3\r\n",
        "$$\r\n",
        "<br>\r\n",
        "$$\r\n",
        "a_0+a_1x_4+a_2 x_4^2+\\cdots +a_n x_4^n = y_4\r\n",
        "$$ where $y_0 = f(x)$\r\n",
        "<br>\r\n",
        "Now, lets set them into a matrix from, we have 5 unknowns which are $$a_0,a_1,a_2,a_3,a_4$$\r\n",
        "\r\n",
        "\r\n",
        "$$\r\n",
        "\\left[\r\n",
        "\\begin{array}{ccccc|c}\r\n",
        "1&x_0&x_0^2&\\cdots&x_0^n&y_0\\\\\r\n",
        "\\vdots&&\\ddots&&\\vdots\\\\\r\n",
        "1&x_{n-1}&x_{n-1}^2&\\dots& x_{n-1}^n&y_{n-1}\r\n",
        "\\end{array}\r\n",
        "\\right]\r\n",
        "$$\r\n",
        "\r\n",
        "\r\n"
      ]
    },
    {
      "cell_type": "markdown",
      "metadata": {
        "id": "g9MKL_QAR3QR"
      },
      "source": [
        "The way we are going to use the Gauss method is \r\n",
        "- first implementing the unique point\r\n",
        "- find constants\r\n",
        "- put values of unique points and constants to create a polynomial"
      ]
    },
    {
      "cell_type": "markdown",
      "metadata": {
        "id": "271jxZLqZbot"
      },
      "source": [
        "Creating singled row matrix/array using input, constantOutput, and the orderOfPolynomial.\r\n",
        "where we append the square of input, and we will be using n+1 ordered polynomial."
      ]
    },
    {
      "cell_type": "code",
      "metadata": {
        "id": "61JDDyVOSLTN"
      },
      "source": [
        "def createRow(input,constantOutput,orderOfPolynomial):\r\n",
        "  singleRowArray = []\r\n",
        "  for i in range(orderOfPolynomial+1):\r\n",
        "    singleRowArray.append(input**i)\r\n",
        "  singleRowArray.append(constantOutput)\r\n",
        "  return singleRowArray"
      ],
      "execution_count": null,
      "outputs": []
    },
    {
      "cell_type": "code",
      "metadata": {
        "colab": {
          "base_uri": "https://localhost:8080/"
        },
        "id": "PNYwgbjTWTNE",
        "outputId": "1e4ff7e4-0474-454c-cc41-605fbc94e5d6"
      },
      "source": [
        "createRow(3,5,6)"
      ],
      "execution_count": null,
      "outputs": [
        {
          "output_type": "execute_result",
          "data": {
            "text/plain": [
              "[1, 3, 9, 27, 81, 243, 729, 5]"
            ]
          },
          "metadata": {
            "tags": []
          },
          "execution_count": 6
        }
      ]
    },
    {
      "cell_type": "markdown",
      "metadata": {
        "id": "1Wlzh4NragYH"
      },
      "source": [
        "I am going to choose points (1,2), (3,4), (5,6), and (7,2)"
      ]
    },
    {
      "cell_type": "code",
      "metadata": {
        "id": "Nlg4Um_Fa8Cd"
      },
      "source": [
        "points = [[1,2],[3,4],[5,6],[7,2]]"
      ],
      "execution_count": null,
      "outputs": []
    },
    {
      "cell_type": "markdown",
      "metadata": {
        "id": "5HtGJUXGpKnh"
      },
      "source": [
        "# Creating an Augmented Matrix"
      ]
    },
    {
      "cell_type": "markdown",
      "metadata": {
        "id": "8SrfBDNYpPL5"
      },
      "source": [
        "Now we are going to make a augmneted array matrix with the help of above createRow method. "
      ]
    },
    {
      "cell_type": "code",
      "metadata": {
        "id": "_s51YGxzqJi5"
      },
      "source": [
        "def createAugmentedMatrix(dataAsArray):\r\n",
        "  matrix = []\r\n",
        "  order = len(dataAsArray)-1\r\n",
        "  for i in range(len(dataAsArray)):\r\n",
        "    matrix.append(createRow(dataAsArray[i][0],dataAsArray[i][1],order))\r\n",
        "  return np.array(matrix)\r\n",
        "\r\n"
      ],
      "execution_count": null,
      "outputs": []
    },
    {
      "cell_type": "markdown",
      "metadata": {
        "id": "JDJ3GUwwqLyo"
      },
      "source": [
        "let's talk about the above method. We can see the length required matrix is 4*5. Here we will take dataArray[i][0] manages the row and dataArrat[i][1] is the last column which was the output in the createRow function. \r\n",
        "<br>\r\n",
        "Now lets call the above function with the points we specified"
      ]
    },
    {
      "cell_type": "code",
      "metadata": {
        "colab": {
          "base_uri": "https://localhost:8080/"
        },
        "id": "jgWjq7OerGcZ",
        "outputId": "cf3c2e58-95fc-47f1-8219-4fee104dc45d"
      },
      "source": [
        "createAugmentedMatrix(points)"
      ],
      "execution_count": null,
      "outputs": [
        {
          "output_type": "execute_result",
          "data": {
            "text/plain": [
              "array([[  1,   1,   1,   1,   2],\n",
              "       [  1,   3,   9,  27,   4],\n",
              "       [  1,   5,  25, 125,   6],\n",
              "       [  1,   7,  49, 343,   2]])"
            ]
          },
          "metadata": {
            "tags": []
          },
          "execution_count": 46
        }
      ]
    },
    {
      "cell_type": "markdown",
      "metadata": {
        "id": "DWaqmEY-sOOR"
      },
      "source": [
        "Now, lets use **Gauss Jordan method** with createAugmentMatrix as a parameter. We will also be using String interpolation which means you can use string inside a string data-type.\r\n",
        "<br>\r\n",
        "**USAGES:**\r\n",
        "<br>\r\n",
        "- Title in graph\r\n",
        "- Show error messages\r\n",
        "- Pass a statement to a function\r\n"
      ]
    },
    {
      "cell_type": "code",
      "metadata": {
        "colab": {
          "base_uri": "https://localhost:8080/",
          "height": 36
        },
        "id": "1hLrC-Lt5JVh",
        "outputId": "07163f5f-6f20-44db-92f8-ae4e165ac04c"
      },
      "source": [
        "gaussJordan(createAugmentedMatrix(points))[:,-1]\r\n",
        "\r\n",
        "string = ''\r\n",
        "for i in range(len(gaussJordan(createAugmentedMatrix(points))[:,-1])):\r\n",
        "  coef = gaussJordan(createAugmentedMatrix(points))[i,-1]\r\n",
        "  string = string + \" \" + '{}'.format(coef) +  r'x^{}'.format(i)\r\n",
        "\r\n",
        "string\r\n"
      ],
      "execution_count": null,
      "outputs": [
        {
          "output_type": "execute_result",
          "data": {
            "application/vnd.google.colaboratory.intrinsic+json": {
              "type": "string"
            },
            "text/plain": [
              "' 2.875x^0 -1.875x^1 1.125x^2 -0.125x^3'"
            ]
          },
          "metadata": {
            "tags": []
          },
          "execution_count": 47
        }
      ]
    },
    {
      "cell_type": "markdown",
      "metadata": {
        "id": "CrnYsvHl55tH"
      },
      "source": [
        "# Direct Spline"
      ]
    },
    {
      "cell_type": "markdown",
      "metadata": {
        "id": "u2ZEq2Qm5-d4"
      },
      "source": [
        "In the mathematical field of Numerical Analysis, spline interpolation is a form of interpolation where the interpolant is a special type of piecewise polynomial called spline. Here we have dataasArray from createAugmentMatrix and a variable to create a Spline function.\r\n",
        "Here, lets make ourselves two points on different axis:\r\n",
        "<br>\r\n",
        "x_points = [ 0, 1, 2, 3, 4, 5]<br>\r\n",
        "y_points = [6,7,8,9,10,11]"
      ]
    },
    {
      "cell_type": "markdown",
      "metadata": {
        "id": "zPdtxtWR8yoh"
      },
      "source": [
        "Here, we will be using a scipy library to make do some scientific computing. Here we will use the value of variable as an input to the function"
      ]
    },
    {
      "cell_type": "code",
      "metadata": {
        "id": "vUxPpvZ773Ei"
      },
      "source": [
        "from scipy import interpolate\r\n",
        "\r\n",
        "def lSpline(variable):\r\n",
        "    x_axis = [ 0, 1, 2, 3, 4, 5]\r\n",
        "    y_axis = [12,14,22,39,58,77]\r\n",
        "\r\n",
        "    tick = interpolate.splrep(x_axis, y_axis)\r\n",
        "    return interpolate.splev(variable, tick)\r\n",
        "\r\n"
      ],
      "execution_count": null,
      "outputs": []
    },
    {
      "cell_type": "code",
      "metadata": {
        "colab": {
          "base_uri": "https://localhost:8080/"
        },
        "id": "ESaiUxDt9J4h",
        "outputId": "112a9c27-180c-4425-a76a-b833e7ef6f72"
      },
      "source": [
        "print(lSpline(2))"
      ],
      "execution_count": null,
      "outputs": [
        {
          "output_type": "stream",
          "text": [
            "22.000000000000007\n"
          ],
          "name": "stdout"
        }
      ]
    },
    {
      "cell_type": "markdown",
      "metadata": {
        "id": "zNV6DaZ6-8hy"
      },
      "source": [
        "Let's make a use of matplotlib library to graph"
      ]
    },
    {
      "cell_type": "code",
      "metadata": {
        "colab": {
          "base_uri": "https://localhost:8080/",
          "height": 281
        },
        "id": "DUNrWPhT9Mgh",
        "outputId": "de2ed18f-b24a-4841-b5e3-7a2971ccac96"
      },
      "source": [
        "import matplotlib.pyplot as plt\r\n",
        "x = np.arange( 0,10)\r\n",
        "firstpoint = np.array(points)[:,0]\r\n",
        "secondpoint = np.array(points)[:,1]\r\n",
        "plt.scatter(firstpoint,secondpoint)\r\n",
        "plt.plot(firstpoint,secondpoint)\r\n",
        "plt.title('Graph of Direct Spline')\r\n",
        "plt.show()"
      ],
      "execution_count": null,
      "outputs": [
        {
          "output_type": "display_data",
          "data": {
            "image/png": "[encoded data removed]",
            "text/plain": [
              "<Figure size 432x288 with 1 Axes>"
            ]
          },
          "metadata": {
            "tags": [],
            "needs_background": "light"
          }
        }
      ]
    },
    {
      "cell_type": "markdown",
      "metadata": {
        "id": "FBjJDs5cVJey"
      },
      "source": [
        "# Linear Spline"
      ]
    },
    {
      "cell_type": "markdown",
      "metadata": {
        "id": "HXKg43b2VOlc"
      },
      "source": [
        "Linear Spline represents a set of line segments between two adjacent points. \r\n",
        "<br>\r\n",
        "In order to work with Linear Spline,we need to make sure we have our data in sorted manner.\r\n",
        "<br>\r\n",
        "Here we have a parameter \"input\" whose value we need to find using the upper and lower bound of the data given.\r\n",
        "Then the equation becomes:\r\n",
        "$v_1(t) $<br>$ = v(lowerbound)- v(upperbound)-v(lowerbound)}*(input-lowerbound)/(upperbound-lowerbound)\r\n",
        "$"
      ]
    },
    {
      "cell_type": "markdown",
      "metadata": {
        "id": "dgYWBbW8YaGC"
      },
      "source": [
        "# Example of Linear Spline:\r\n",
        "Let's suppose we are working with time and velocity of rocket as we have seen this kind of examples in Physics. Suppose we are given with time and velocity in sorted order(if not sorted, we need to sort it first)\r\n",
        "Steps to find Linear Spline\r\n",
        "- Use the above given formula and put the data in it. If you are given time like 10,11,15, 17, 18 with t = 16 as your time or input. In this case you will choose the nearest 2 numbers from 16 which are 17, 18. \r\n",
        "- lowerbound: 17, upperbound: 18\r\n",
        "- at last using the given input that is 16, you will find the velocity of the rocket."
      ]
    },
    {
      "cell_type": "markdown",
      "metadata": {
        "id": "tNXn0C-D4WqQ"
      },
      "source": [
        "Below are a few interpolations of the function f(x)= e^x, following these will be the linear splines "
      ]
    },
    {
      "cell_type": "markdown",
      "metadata": {
        "id": "ixD29HiNEyUj"
      },
      "source": [
        "##Linear Splines \r\n",
        "Lets try doing this with a basic function $f(x) = \\ e^ x$ on the interval $[0,10]$\r\n",
        "\r\n",
        "First with 5 points \r\n"
      ]
    },
    {
      "cell_type": "code",
      "metadata": {
        "id": "PN1RUQk-Q3ih"
      },
      "source": [
        "def even_div(function,lower,upper,numberOfDivisions):\r\n",
        "  ChangeInx = (upper - lower)/(numberOfDivisions - 1)\r\n",
        "  array = []\r\n",
        "  for i in range(numberOfDivisions):\r\n",
        "    array.append([lower + i*ChangeInx,function(lower + i*ChangeInx)])\r\n",
        "  return np.array(array)\r\n",
        "\r\n",
        "fivepoints = even_div(np.exp,0,10,5)"
      ],
      "execution_count": null,
      "outputs": []
    },
    {
      "cell_type": "code",
      "metadata": {
        "id": "mgckJSh_Q3av"
      },
      "source": [
        "def slope(pointInitial,pointFinal):\r\n",
        "  return (pointFinal[1]-pointInitial[1])/(pointFinal[0]-pointInitial[0])"
      ],
      "execution_count": null,
      "outputs": []
    },
    {
      "cell_type": "code",
      "metadata": {
        "id": "SvJkjEsVQ3UR"
      },
      "source": [
        "def linerSpline(array,input):\r\n",
        "  x = array[:,0]\r\n",
        "  y = array[:,1]\r\n",
        "  for i in range(len(x)-1):\r\n",
        "    if (x[i]< input) & (input < x[i+1]):\r\n",
        "      return y[i]+ slope(array[i,:],array[i+1,:])*(input - x[i])\r\n",
        "    else:\r\n",
        "      continue"
      ],
      "execution_count": null,
      "outputs": []
    },
    {
      "cell_type": "code",
      "metadata": {
        "colab": {
          "base_uri": "https://localhost:8080/"
        },
        "id": "0NdFRbveQ3Fu",
        "outputId": "aaff8efc-8e28-4ab7-8488-27df3cf3db79"
      },
      "source": [
        "linerSpline(fivepoints,1)"
      ],
      "execution_count": null,
      "outputs": [
        {
          "output_type": "execute_result",
          "data": {
            "text/plain": [
              "5.472997584281389"
            ]
          },
          "metadata": {
            "tags": []
          },
          "execution_count": 54
        }
      ]
    },
    {
      "cell_type": "code",
      "metadata": {
        "id": "Bx-1G0GSQ29G"
      },
      "source": [
        "x = np.arange(0,10,0.1)\r\n",
        "y = [linerSpline(fivepoints,x) for x in x]"
      ],
      "execution_count": null,
      "outputs": []
    },
    {
      "cell_type": "code",
      "metadata": {
        "colab": {
          "base_uri": "https://localhost:8080/",
          "height": 281
        },
        "id": "FPXdTOYYQ20v",
        "outputId": "825f3f49-a14d-44a0-98d4-85d28b37b6af"
      },
      "source": [
        "x = np.arange(0,10,0.1)\r\n",
        "\r\n",
        "plt.scatter(fivepoints[:,0],fivepoints[:,1])\r\n",
        "plt.plot(x,y)\r\n",
        "plt.plot(x, np.exp(x))\r\n",
        "plt.title('Graph of Linear Spline with 5 Points')\r\n",
        "plt.legend(['Spline','e^x'])\r\n",
        "\r\n",
        "\r\n",
        "plt.show()"
      ],
      "execution_count": null,
      "outputs": [
        {
          "output_type": "display_data",
          "data": {
            "image/png": "[encoded data removed]",
            "text/plain": [
              "<Figure size 432x288 with 1 Axes>"
            ]
          },
          "metadata": {
            "tags": [],
            "needs_background": "light"
          }
        }
      ]
    },
    {
      "cell_type": "markdown",
      "metadata": {
        "id": "xHYbQNDCVQqV"
      },
      "source": [
        "Now with 20 points for the same function"
      ]
    },
    {
      "cell_type": "code",
      "metadata": {
        "id": "4xaUTbuWR4Zt"
      },
      "source": [
        "twenty = even_div(np.exp,0,10,20)"
      ],
      "execution_count": null,
      "outputs": []
    },
    {
      "cell_type": "code",
      "metadata": {
        "colab": {
          "base_uri": "https://localhost:8080/",
          "height": 281
        },
        "id": "1QFbyo94SUJr",
        "outputId": "53d11791-23df-49e0-a3cb-8eb1f081d636"
      },
      "source": [
        "plt.scatter(twenty[:,0],twenty[:,1])\r\n",
        "plt.plot(x,y)\r\n",
        "plt.plot(x, np.exp(x))\r\n",
        "plt.title('Graph of Linear Spline with 20 Points')\r\n",
        "plt.legend(['Spline','e^x'])\r\n",
        "\r\n",
        "\r\n",
        "plt.show()"
      ],
      "execution_count": null,
      "outputs": [
        {
          "output_type": "display_data",
          "data": {
            "image/png": "[encoded data removed]",
            "text/plain": [
              "<Figure size 432x288 with 1 Axes>"
            ]
          },
          "metadata": {
            "tags": [],
            "needs_background": "light"
          }
        }
      ]
    },
    {
      "cell_type": "markdown",
      "metadata": {
        "id": "asVck_b-VUTW"
      },
      "source": [
        "It doesnt look like the spline fits the graph the way we would hope. When using more and more points we would expect the graphs to almost line up exactly, but alas we do not see that here. We do see that 20 is better than 5 but not as good as it could be. "
      ]
    },
    {
      "cell_type": "code",
      "metadata": {
        "id": "RARAESKhVUD2"
      },
      "source": [
        ""
      ],
      "execution_count": null,
      "outputs": []
    }
  ]
}