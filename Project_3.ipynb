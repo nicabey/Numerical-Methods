{
  "nbformat": 4,
  "nbformat_minor": 0,
  "metadata": {
    "colab": {
      "name": "Project 3 ",
      "provenance": [],
      "collapsed_sections": [],
      "include_colab_link": true
    },
    "kernelspec": {
      "name": "python3",
      "display_name": "Python 3"
    }
  },
  "cells": [
    {
      "cell_type": "markdown",
      "metadata": {
        "id": "view-in-github",
        "colab_type": "text"
      },
      "source": [
        "<a href=\"https://colab.research.google.com/github/nicabey/Numerical-Methods/blob/main/Project_3.ipynb\" target=\"_parent\"><img src=\"https://colab.research.google.com/assets/colab-badge.svg\" alt=\"Open In Colab\"/></a>"
      ]
    },
    {
      "cell_type": "markdown",
      "metadata": {
        "id": "ZXv53E9TMTal"
      },
      "source": [
        "## Project Part 3\r\n",
        "Dr. Jacob\r\n",
        "\r\n",
        "Numerical Methods\r\n",
        "\r\n",
        "Laxman Bista, Ritu Maharjan, Nichole Beyer, Sanjay Katuwal"
      ]
    },
    {
      "cell_type": "code",
      "metadata": {
        "id": "s-ZpU_cM_9Dy"
      },
      "source": [
        "import math\r\n",
        "\r\n",
        "pi = math.pi\r\n",
        "sqrt2 = math.sqrt(2)\r\n",
        "\r\n",
        "def absoluteError(estimate, actualValue):\r\n",
        "  return actualValue - estimate\r\n",
        "\r\n",
        "def relativeError(estimate, actualValue):\r\n",
        "  return absoluteError(estimate, actualValue)/actualValue\r\n",
        "\r\n",
        "def approximateError(previousEstimate, currentEstimate):\r\n",
        "  return currentEstimate - previousEstimate\r\n",
        "\r\n",
        "def relativeApproximateError(previousEstimate, currentEstimate):\r\n",
        "  return abs(approximateError(previousEstimate, currentEstimate)/currentEstimate)\r\n",
        "\r\n",
        "def generalTaylorCoefficient(degree):\r\n",
        "  return (-1)**(math.floor(degree/2))/(sqrt2*math.factorial(degree))\r\n",
        "\r\n",
        "def taylorPolynomialTerm(degree, input):\r\n",
        "  return generalTaylorCoefficient(degree)*(input-pi/4)**degree\r\n",
        "\r\n",
        "def taylorPolynomial(degree, input):\r\n",
        "  sum = 0\r\n",
        "  for i in range(0, degree+1):\r\n",
        "    sum = sum +  taylorPolynomialTerm(i, input)\r\n",
        "  return sum\r\n",
        "\r\n",
        "\r\n",
        "\r\n",
        "def lagrangeCoefficient(input,output,point,variable):\r\n",
        "  lagcoeff = 1\r\n",
        "  for i in range(len(input)):\r\n",
        "    if i == point:\r\n",
        "      continue\r\n",
        "    else:\r\n",
        "      lagcoeff = lagcoeff*(variable - input[i])/(input[point]-input[i])\r\n",
        "  return lagcoeff\r\n",
        "\r\n",
        "def lagrangeInterpolator(input, output, variable):\r\n",
        "  lagInt = 0\r\n",
        "  for i in range(len(input)):\r\n",
        "    lagInt = lagInt + lagrangeCoefficient(input,output,i,variable)*output[i]\r\n",
        "  return lagInt\r\n",
        "\r\n",
        "choosenInputs = [pi/2,pi/4+.1,pi/4+.2,pi/4]\r\n",
        "Outputs = [math.sin(x) for x in choosenInputs]\r\n",
        "\r\n"
      ],
      "execution_count": null,
      "outputs": []
    },
    {
      "cell_type": "markdown",
      "metadata": {
        "id": "6l6pEqSpHylo"
      },
      "source": [
        "\r\n",
        "\r\n",
        "## **Newton-Rapshon Method**"
      ]
    },
    {
      "cell_type": "markdown",
      "metadata": {
        "id": "gW_N-xpWIHnF"
      },
      "source": [
        "Newton Rapshon Method, named after Issac Newton and Joseph Raphson, is a root finding algorithm which produces better approximations to the roots of real valued function. We will be using sin function who's derivative is cos\r\n",
        "<br>\r\n",
        "The formula can be written as:\r\n",
        "<br>\r\n",
        "$$\r\n",
        "x_{i+1}= x_i-\\frac{f(x_i)}{f'(x_i)}\r\n",
        "$$\r\n",
        "Here, the initialValue is $$x_i$$ "
      ]
    },
    {
      "cell_type": "code",
      "metadata": {
        "id": "ThfqYucNIGrh"
      },
      "source": [
        "def iteratorFunction(function, derivative, initialValue):\r\n",
        "  return initialValue - function(initialValue)/derivative(initialValue)\r\n",
        "\r\n",
        "def newton(function, derivative, initial, tolerrance, maxIterations):\r\n",
        "  x = initial\r\n",
        "  for increase in range(maxIterations):\r\n",
        "    if derivative(x) == 0:\r\n",
        "    #  checking if the derivative is 0\r\n",
        "      return None\r\n",
        "    if abs(function(x))< tolerrance:\r\n",
        "      return [x,increase]\r\n",
        "    x = iteratorFunction(function, derivative, x)\r\n",
        " # Printing the error if the iteration exceed\r\n",
        "  return None"
      ],
      "execution_count": null,
      "outputs": []
    },
    {
      "cell_type": "markdown",
      "metadata": {
        "id": "kmLgVB2BIUOJ"
      },
      "source": [
        "Now, <br>\r\n",
        "let's apply the algorithm to our function and let's provide seeds and initial tolerance of 0.0001."
      ]
    },
    {
      "cell_type": "code",
      "metadata": {
        "id": "a805DbzVIW4Z"
      },
      "source": [
        "newton(math.sin,math.cos,pi/2,.00001,10)"
      ],
      "execution_count": null,
      "outputs": []
    },
    {
      "cell_type": "code",
      "metadata": {
        "colab": {
          "base_uri": "https://localhost:8080/"
        },
        "id": "v6oDjhKsIYtT",
        "outputId": "015e5247-328b-4b00-f3e4-90e73c4951b5"
      },
      "source": [
        "newton(math.sin,math.cos,pi/4,.00001,10)"
      ],
      "execution_count": null,
      "outputs": [
        {
          "output_type": "execute_result",
          "data": {
            "text/plain": [
              "[-1.2602253593105295e-08, 3]"
            ]
          },
          "metadata": {
            "tags": []
          },
          "execution_count": 5
        }
      ]
    },
    {
      "cell_type": "code",
      "metadata": {
        "id": "g3-7BYlyId23"
      },
      "source": [
        "seedV = [pi/2,pi/4,pi/2+.1,1,3,10,15,3*pi/4+.01,pi+.01]\r\n",
        "roots = []\r\n",
        "iterations = []\r\n",
        "for i in seedV:\r\n",
        "  if newton(math.sin,math.cos,i,1e-11,10) != None:\r\n",
        "    roots.append(newton(math.sin,math.cos,i,1e-11,10)[0])\r\n",
        "    iterations.append(newton(math.sin,math.cos,i,1e-11,10)[1])\r\n",
        "  else:\r\n",
        "    roots.append('Iteration Excedded')\r\n",
        "    iterations.append('>10')"
      ],
      "execution_count": null,
      "outputs": []
    },
    {
      "cell_type": "markdown",
      "metadata": {
        "id": "f4t-i0ZXIkhA"
      },
      "source": [
        "Let's use a package plotly to make a table which is easy to visualize"
      ]
    },
    {
      "cell_type": "code",
      "metadata": {
        "colab": {
          "base_uri": "https://localhost:8080/",
          "height": 542
        },
        "id": "EGNEe8bzInNz",
        "outputId": "7f9ed171-5e56-4ec9-d7ff-6f8812ceda6e"
      },
      "source": [
        "import plotly.graph_objects as go\r\n",
        "from plotly.subplots import make_subplots\r\n",
        "\r\n",
        "fig = go.Figure(data=[go.Table(\r\n",
        "                header=dict(values=['Seeds', 'Roots', 'Iterations']),\r\n",
        "                 cells=dict(values = [seedV,roots,iterations]))\r\n",
        "                     ])\r\n",
        "fig.show()"
      ],
      "execution_count": null,
      "outputs": [
        {
          "output_type": "display_data",
          "data": {
            "text/html": [
              "<html>\n",
              "<head><meta charset=\"utf-8\" /></head>\n",
              "<body>\n",
              "    <div>\n",
              "            <script src=\"https://cdnjs.cloudflare.com/ajax/libs/mathjax/2.7.5/MathJax.js?config=TeX-AMS-MML_SVG\"></script><script type=\"text/javascript\">if (window.MathJax) {MathJax.Hub.Config({SVG: {font: \"STIX-Web\"}});}</script>\n",
              "                <script type=\"text/javascript\">window.PlotlyConfig = {MathJaxConfig: 'local'};</script>\n",
              "        <script src=\"https://cdn.plot.ly/plotly-latest.min.js\"></script>    \n",
              "            <div id=\"6d7c36c9-6e2f-4058-b3a7-90997b83a9f7\" class=\"plotly-graph-div\" style=\"height:525px; width:100%;\"></div>\n",
              "            <script type=\"text/javascript\">\n",
              "                \n",
              "                    window.PLOTLYENV=window.PLOTLYENV || {};\n",
              "                    \n",
              "                if (document.getElementById(\"6d7c36c9-6e2f-4058-b3a7-90997b83a9f7\")) {\n",
              "                    Plotly.newPlot(\n",
              "                        '6d7c36c9-6e2f-4058-b3a7-90997b83a9f7',\n",
              "                        [{\"cells\": {\"values\": [[1.5707963267948966, 0.7853981633974483, 1.6707963267948966, 1, 3, 10, 15, 2.3661944901923446, 3.151592653589793], [\"Iteration Excedded\", 1.6543612251060553e-24, 12.566370614359172, 2.923566201412306e-13, 3.141592653589793, 9.424777960768635, 15.707963267948966, 3.141592653589793, 3.141592653589793], [\">10\", 4, 5, 4, 3, 3, 4, 4, 2]]}, \"header\": {\"values\": [\"Seeds\", \"Roots\", \"Iterations\"]}, \"type\": \"table\"}],\n",
              "                        {\"template\": {\"data\": {\"bar\": [{\"error_x\": {\"color\": \"#2a3f5f\"}, \"error_y\": {\"color\": \"#2a3f5f\"}, \"marker\": {\"line\": {\"color\": \"#E5ECF6\", \"width\": 0.5}}, \"type\": \"bar\"}], \"barpolar\": [{\"marker\": {\"line\": {\"color\": \"#E5ECF6\", \"width\": 0.5}}, \"type\": \"barpolar\"}], \"carpet\": [{\"aaxis\": {\"endlinecolor\": \"#2a3f5f\", \"gridcolor\": \"white\", \"linecolor\": \"white\", \"minorgridcolor\": \"white\", \"startlinecolor\": \"#2a3f5f\"}, \"baxis\": {\"endlinecolor\": \"#2a3f5f\", \"gridcolor\": \"white\", \"linecolor\": \"white\", \"minorgridcolor\": \"white\", \"startlinecolor\": \"#2a3f5f\"}, \"type\": \"carpet\"}], \"choropleth\": [{\"colorbar\": {\"outlinewidth\": 0, \"ticks\": \"\"}, \"type\": \"choropleth\"}], \"contour\": [{\"colorbar\": {\"outlinewidth\": 0, \"ticks\": \"\"}, \"colorscale\": [[0.0, \"#0d0887\"], [0.1111111111111111, \"#46039f\"], [0.2222222222222222, \"#7201a8\"], [0.3333333333333333, \"#9c179e\"], [0.4444444444444444, \"#bd3786\"], [0.5555555555555556, \"#d8576b\"], [0.6666666666666666, \"#ed7953\"], [0.7777777777777778, \"#fb9f3a\"], [0.8888888888888888, \"#fdca26\"], [1.0, \"#f0f921\"]], \"type\": \"contour\"}], \"contourcarpet\": [{\"colorbar\": {\"outlinewidth\": 0, \"ticks\": \"\"}, \"type\": \"contourcarpet\"}], \"heatmap\": [{\"colorbar\": {\"outlinewidth\": 0, \"ticks\": \"\"}, \"colorscale\": [[0.0, \"#0d0887\"], [0.1111111111111111, \"#46039f\"], [0.2222222222222222, \"#7201a8\"], [0.3333333333333333, \"#9c179e\"], [0.4444444444444444, \"#bd3786\"], [0.5555555555555556, \"#d8576b\"], [0.6666666666666666, \"#ed7953\"], [0.7777777777777778, \"#fb9f3a\"], [0.8888888888888888, \"#fdca26\"], [1.0, \"#f0f921\"]], \"type\": \"heatmap\"}], \"heatmapgl\": [{\"colorbar\": {\"outlinewidth\": 0, \"ticks\": \"\"}, \"colorscale\": [[0.0, \"#0d0887\"], [0.1111111111111111, \"#46039f\"], [0.2222222222222222, \"#7201a8\"], [0.3333333333333333, \"#9c179e\"], [0.4444444444444444, \"#bd3786\"], [0.5555555555555556, \"#d8576b\"], [0.6666666666666666, \"#ed7953\"], [0.7777777777777778, \"#fb9f3a\"], [0.8888888888888888, \"#fdca26\"], [1.0, \"#f0f921\"]], \"type\": \"heatmapgl\"}], \"histogram\": [{\"marker\": {\"colorbar\": {\"outlinewidth\": 0, \"ticks\": \"\"}}, \"type\": \"histogram\"}], \"histogram2d\": [{\"colorbar\": {\"outlinewidth\": 0, \"ticks\": \"\"}, \"colorscale\": [[0.0, \"#0d0887\"], [0.1111111111111111, \"#46039f\"], [0.2222222222222222, \"#7201a8\"], [0.3333333333333333, \"#9c179e\"], [0.4444444444444444, \"#bd3786\"], [0.5555555555555556, \"#d8576b\"], [0.6666666666666666, \"#ed7953\"], [0.7777777777777778, \"#fb9f3a\"], [0.8888888888888888, \"#fdca26\"], [1.0, \"#f0f921\"]], \"type\": \"histogram2d\"}], \"histogram2dcontour\": [{\"colorbar\": {\"outlinewidth\": 0, \"ticks\": \"\"}, \"colorscale\": [[0.0, \"#0d0887\"], [0.1111111111111111, \"#46039f\"], [0.2222222222222222, \"#7201a8\"], [0.3333333333333333, \"#9c179e\"], [0.4444444444444444, \"#bd3786\"], [0.5555555555555556, \"#d8576b\"], [0.6666666666666666, \"#ed7953\"], [0.7777777777777778, \"#fb9f3a\"], [0.8888888888888888, \"#fdca26\"], [1.0, \"#f0f921\"]], \"type\": \"histogram2dcontour\"}], \"mesh3d\": [{\"colorbar\": {\"outlinewidth\": 0, \"ticks\": \"\"}, \"type\": \"mesh3d\"}], \"parcoords\": [{\"line\": {\"colorbar\": {\"outlinewidth\": 0, \"ticks\": \"\"}}, \"type\": \"parcoords\"}], \"pie\": [{\"automargin\": true, \"type\": \"pie\"}], \"scatter\": [{\"marker\": {\"colorbar\": {\"outlinewidth\": 0, \"ticks\": \"\"}}, \"type\": \"scatter\"}], \"scatter3d\": [{\"line\": {\"colorbar\": {\"outlinewidth\": 0, \"ticks\": \"\"}}, \"marker\": {\"colorbar\": {\"outlinewidth\": 0, \"ticks\": \"\"}}, \"type\": \"scatter3d\"}], \"scattercarpet\": [{\"marker\": {\"colorbar\": {\"outlinewidth\": 0, \"ticks\": \"\"}}, \"type\": \"scattercarpet\"}], \"scattergeo\": [{\"marker\": {\"colorbar\": {\"outlinewidth\": 0, \"ticks\": \"\"}}, \"type\": \"scattergeo\"}], \"scattergl\": [{\"marker\": {\"colorbar\": {\"outlinewidth\": 0, \"ticks\": \"\"}}, \"type\": \"scattergl\"}], \"scattermapbox\": [{\"marker\": {\"colorbar\": {\"outlinewidth\": 0, \"ticks\": \"\"}}, \"type\": \"scattermapbox\"}], \"scatterpolar\": [{\"marker\": {\"colorbar\": {\"outlinewidth\": 0, \"ticks\": \"\"}}, \"type\": \"scatterpolar\"}], \"scatterpolargl\": [{\"marker\": {\"colorbar\": {\"outlinewidth\": 0, \"ticks\": \"\"}}, \"type\": \"scatterpolargl\"}], \"scatterternary\": [{\"marker\": {\"colorbar\": {\"outlinewidth\": 0, \"ticks\": \"\"}}, \"type\": \"scatterternary\"}], \"surface\": [{\"colorbar\": {\"outlinewidth\": 0, \"ticks\": \"\"}, \"colorscale\": [[0.0, \"#0d0887\"], [0.1111111111111111, \"#46039f\"], [0.2222222222222222, \"#7201a8\"], [0.3333333333333333, \"#9c179e\"], [0.4444444444444444, \"#bd3786\"], [0.5555555555555556, \"#d8576b\"], [0.6666666666666666, \"#ed7953\"], [0.7777777777777778, \"#fb9f3a\"], [0.8888888888888888, \"#fdca26\"], [1.0, \"#f0f921\"]], \"type\": \"surface\"}], \"table\": [{\"cells\": {\"fill\": {\"color\": \"#EBF0F8\"}, \"line\": {\"color\": \"white\"}}, \"header\": {\"fill\": {\"color\": \"#C8D4E3\"}, \"line\": {\"color\": \"white\"}}, \"type\": \"table\"}]}, \"layout\": {\"annotationdefaults\": {\"arrowcolor\": \"#2a3f5f\", \"arrowhead\": 0, \"arrowwidth\": 1}, \"coloraxis\": {\"colorbar\": {\"outlinewidth\": 0, \"ticks\": \"\"}}, \"colorscale\": {\"diverging\": [[0, \"#8e0152\"], [0.1, \"#c51b7d\"], [0.2, \"#de77ae\"], [0.3, \"#f1b6da\"], [0.4, \"#fde0ef\"], [0.5, \"#f7f7f7\"], [0.6, \"#e6f5d0\"], [0.7, \"#b8e186\"], [0.8, \"#7fbc41\"], [0.9, \"#4d9221\"], [1, \"#276419\"]], \"sequential\": [[0.0, \"#0d0887\"], [0.1111111111111111, \"#46039f\"], [0.2222222222222222, \"#7201a8\"], [0.3333333333333333, \"#9c179e\"], [0.4444444444444444, \"#bd3786\"], [0.5555555555555556, \"#d8576b\"], [0.6666666666666666, \"#ed7953\"], [0.7777777777777778, \"#fb9f3a\"], [0.8888888888888888, \"#fdca26\"], [1.0, \"#f0f921\"]], \"sequentialminus\": [[0.0, \"#0d0887\"], [0.1111111111111111, \"#46039f\"], [0.2222222222222222, \"#7201a8\"], [0.3333333333333333, \"#9c179e\"], [0.4444444444444444, \"#bd3786\"], [0.5555555555555556, \"#d8576b\"], [0.6666666666666666, \"#ed7953\"], [0.7777777777777778, \"#fb9f3a\"], [0.8888888888888888, \"#fdca26\"], [1.0, \"#f0f921\"]]}, \"colorway\": [\"#636efa\", \"#EF553B\", \"#00cc96\", \"#ab63fa\", \"#FFA15A\", \"#19d3f3\", \"#FF6692\", \"#B6E880\", \"#FF97FF\", \"#FECB52\"], \"font\": {\"color\": \"#2a3f5f\"}, \"geo\": {\"bgcolor\": \"white\", \"lakecolor\": \"white\", \"landcolor\": \"#E5ECF6\", \"showlakes\": true, \"showland\": true, \"subunitcolor\": \"white\"}, \"hoverlabel\": {\"align\": \"left\"}, \"hovermode\": \"closest\", \"mapbox\": {\"style\": \"light\"}, \"paper_bgcolor\": \"white\", \"plot_bgcolor\": \"#E5ECF6\", \"polar\": {\"angularaxis\": {\"gridcolor\": \"white\", \"linecolor\": \"white\", \"ticks\": \"\"}, \"bgcolor\": \"#E5ECF6\", \"radialaxis\": {\"gridcolor\": \"white\", \"linecolor\": \"white\", \"ticks\": \"\"}}, \"scene\": {\"xaxis\": {\"backgroundcolor\": \"#E5ECF6\", \"gridcolor\": \"white\", \"gridwidth\": 2, \"linecolor\": \"white\", \"showbackground\": true, \"ticks\": \"\", \"zerolinecolor\": \"white\"}, \"yaxis\": {\"backgroundcolor\": \"#E5ECF6\", \"gridcolor\": \"white\", \"gridwidth\": 2, \"linecolor\": \"white\", \"showbackground\": true, \"ticks\": \"\", \"zerolinecolor\": \"white\"}, \"zaxis\": {\"backgroundcolor\": \"#E5ECF6\", \"gridcolor\": \"white\", \"gridwidth\": 2, \"linecolor\": \"white\", \"showbackground\": true, \"ticks\": \"\", \"zerolinecolor\": \"white\"}}, \"shapedefaults\": {\"line\": {\"color\": \"#2a3f5f\"}}, \"ternary\": {\"aaxis\": {\"gridcolor\": \"white\", \"linecolor\": \"white\", \"ticks\": \"\"}, \"baxis\": {\"gridcolor\": \"white\", \"linecolor\": \"white\", \"ticks\": \"\"}, \"bgcolor\": \"#E5ECF6\", \"caxis\": {\"gridcolor\": \"white\", \"linecolor\": \"white\", \"ticks\": \"\"}}, \"title\": {\"x\": 0.05}, \"xaxis\": {\"automargin\": true, \"gridcolor\": \"white\", \"linecolor\": \"white\", \"ticks\": \"\", \"title\": {\"standoff\": 15}, \"zerolinecolor\": \"white\", \"zerolinewidth\": 2}, \"yaxis\": {\"automargin\": true, \"gridcolor\": \"white\", \"linecolor\": \"white\", \"ticks\": \"\", \"title\": {\"standoff\": 15}, \"zerolinecolor\": \"white\", \"zerolinewidth\": 2}}}},\n",
              "                        {\"responsive\": true}\n",
              "                    ).then(function(){\n",
              "                            \n",
              "var gd = document.getElementById('6d7c36c9-6e2f-4058-b3a7-90997b83a9f7');\n",
              "var x = new MutationObserver(function (mutations, observer) {{\n",
              "        var display = window.getComputedStyle(gd).display;\n",
              "        if (!display || display === 'none') {{\n",
              "            console.log([gd, 'removed!']);\n",
              "            Plotly.purge(gd);\n",
              "            observer.disconnect();\n",
              "        }}\n",
              "}});\n",
              "\n",
              "// Listen for the removal of the full notebook cells\n",
              "var notebookContainer = gd.closest('#notebook-container');\n",
              "if (notebookContainer) {{\n",
              "    x.observe(notebookContainer, {childList: true});\n",
              "}}\n",
              "\n",
              "// Listen for the clearing of the current output cell\n",
              "var outputEl = gd.closest('.output');\n",
              "if (outputEl) {{\n",
              "    x.observe(outputEl, {childList: true});\n",
              "}}\n",
              "\n",
              "                        })\n",
              "                };\n",
              "                \n",
              "            </script>\n",
              "        </div>\n",
              "</body>\n",
              "</html>"
            ]
          },
          "metadata": {
            "tags": []
          }
        }
      ]
    },
    {
      "cell_type": "markdown",
      "metadata": {
        "id": "x3vkfJVlQj62"
      },
      "source": [
        "From the above table we can see, if the iteration exceeds 10, the we will show an error \"Iteration exceeded\""
      ]
    },
    {
      "cell_type": "code",
      "metadata": {
        "colab": {
          "base_uri": "https://localhost:8080/"
        },
        "id": "Gh28yIfGQmtJ",
        "outputId": "179b3d02-ef7c-42d1-99b6-6a307bb26dbc"
      },
      "source": [
        "roots[-2]/pi"
      ],
      "execution_count": null,
      "outputs": [
        {
          "output_type": "execute_result",
          "data": {
            "text/plain": [
              "1.0"
            ]
          },
          "metadata": {
            "tags": []
          },
          "execution_count": 8
        }
      ]
    },
    {
      "cell_type": "markdown",
      "metadata": {
        "id": "FTuyejDDaauE"
      },
      "source": [
        "# Bisection Method\r\n"
      ]
    },
    {
      "cell_type": "markdown",
      "metadata": {
        "id": "31amMQL7Qq0p"
      },
      "source": [
        "The Bisection Method, also known as Binary Search Method which is common in searching algorithms. \r\n",
        "The bisection method work as follows:\r\n",
        "- two values a and b are choosen for which f(a) > 0 and f(b) < 0\r\n",
        "- midpoint c is calculated, c = (a+b)/2\r\n",
        "- the function is evaluated for the value of c \r\n",
        "  : if f(c) = 0 suggests that we have found the root of the function\r\n",
        "  : if f(c) is not equal to 0, then check the sign of f(c)\r\n",
        "- If f(c) has the same sign as f(a) we replace a with c and we keep the same value for b\r\n",
        "- If f(c) has the same sign as f(b), we replace b with c and we keep the same value for a\r\n",
        "- lastly, we go back to step 2 and reaclculate c with the new value of a or b"
      ]
    },
    {
      "cell_type": "code",
      "metadata": {
        "id": "wMr_dgsdQwTF"
      },
      "source": [
        "def  valueforBisection(Larger, Smaller):\r\n",
        "  x = (Larger+Smaller)/2\r\n",
        "  return x\r\n",
        "\r\n",
        "def positive(function,Larger,Smaller):\r\n",
        "  newNum = valueforBisection(Larger,Smaller)\r\n",
        "  if function(Larger)*function(newNum)< 0:\r\n",
        "    return [Larger, newNum]\r\n",
        "  if function(Larger)*function(newNum)>0:\r\n",
        "    return [newNum,Smaller]\r\n",
        "  if function(Larger)*function(newNum)==0:\r\n",
        "    return [newNum,newNum]\r\n",
        "\r\n",
        "def bisection1(function, initialLarger, initialSmaller, maxIterations):\r\n",
        "  x = [initialLarger,initialSmaller]\r\n",
        "  for i in range(maxIterations):\r\n",
        "    if x[0] == x[1]:\r\n",
        "      return x[0]\r\n",
        "    else:\r\n",
        "      x = positive(function,x[0],x[1])\r\n",
        "  return x"
      ],
      "execution_count": null,
      "outputs": []
    },
    {
      "cell_type": "markdown",
      "metadata": {
        "id": "PUxkHGIVQ0WT"
      },
      "source": [
        "*Let*'s use sinx for -ve an d +ve values"
      ]
    },
    {
      "cell_type": "code",
      "metadata": {
        "id": "JX9ngdfHQ1rH",
        "colab": {
          "base_uri": "https://localhost:8080/"
        },
        "outputId": "ff9bfe2f-222c-4a0d-c81c-936d70a2c915"
      },
      "source": [
        "bisection1(math.sin, 2*pi/2,pi/2+.0001,100)"
      ],
      "execution_count": null,
      "outputs": [
        {
          "output_type": "execute_result",
          "data": {
            "text/plain": [
              "[1.5708963267948968, 1.5708963267948965]"
            ]
          },
          "metadata": {
            "tags": []
          },
          "execution_count": 10
        }
      ]
    },
    {
      "cell_type": "markdown",
      "metadata": {
        "id": "OJ6hsHA6Q3lO"
      },
      "source": [
        "Let's give bisection1 with 2 positive *values*"
      ]
    },
    {
      "cell_type": "code",
      "metadata": {
        "colab": {
          "base_uri": "https://localhost:8080/"
        },
        "id": "F0BK1d1oQ5ym",
        "outputId": "2c3c7a5b-874a-44cf-98b6-dda21b159ac0"
      },
      "source": [
        "bisection1(math.sin, pi/2,pi/4,20)"
      ],
      "execution_count": null,
      "outputs": [
        {
          "output_type": "execute_result",
          "data": {
            "text/plain": [
              "[0.7853989124115048, 0.7853981633974483]"
            ]
          },
          "metadata": {
            "tags": []
          },
          "execution_count": 11
        }
      ]
    },
    {
      "cell_type": "markdown",
      "metadata": {
        "id": "Qo7HqDNYQ8oq"
      },
      "source": [
        "The above function gives the similar value for different outputs. It's not same but we have output which are very near to each other. Let's see with pi/2"
      ]
    },
    {
      "cell_type": "code",
      "metadata": {
        "colab": {
          "base_uri": "https://localhost:8080/"
        },
        "id": "9sZChEo7Q-di",
        "outputId": "5b041f75-82cc-4f86-abe6-ca79f2c64654"
      },
      "source": [
        "x = bisection1(math.sin, pi/2,pi/4,20)\r\n",
        "print(math.sin(pi/2))\r\n",
        "math.sin(x[0])"
      ],
      "execution_count": null,
      "outputs": [
        {
          "output_type": "stream",
          "text": [
            "1.0\n"
          ],
          "name": "stdout"
        },
        {
          "output_type": "execute_result",
          "data": {
            "text/plain": [
              "0.7071073108192677"
            ]
          },
          "metadata": {
            "tags": []
          },
          "execution_count": 12
        }
      ]
    },
    {
      "cell_type": "markdown",
      "metadata": {
        "id": "ojwxTvB4RBN2"
      },
      "source": [
        "Here, we have sufficient gap between outputs. Let's make another function bisection2 and give it proper values to end"
      ]
    },
    {
      "cell_type": "code",
      "metadata": {
        "colab": {
          "base_uri": "https://localhost:8080/",
          "height": 36
        },
        "id": "DpQPOdyYRCuf",
        "outputId": "7028a703-a324-4724-97df-03343af5f69a"
      },
      "source": [
        "def bisection2(function, initialLarger, initialSmaller, maxIterations):\r\n",
        "  x = [initialLarger,initialSmaller]\r\n",
        "  if function(initialLarger)*function(initialSmaller)>0:\r\n",
        "    return 'Error!  Pick values that give opposite signs in the function'\r\n",
        "  for i in range(maxIterations):\r\n",
        "    if x[0] == x[1]:\r\n",
        "      return x[0]\r\n",
        "    else:\r\n",
        "      x = positive(function,x[0],x[1])\r\n",
        "  return x\r\n",
        "\r\n",
        "bisection2(math.sin, pi/2,pi/4,20)  "
      ],
      "execution_count": null,
      "outputs": [
        {
          "output_type": "execute_result",
          "data": {
            "application/vnd.google.colaboratory.intrinsic+json": {
              "type": "string"
            },
            "text/plain": [
              "'Error!  Pick values that give opposite signs in the function'"
            ]
          },
          "metadata": {
            "tags": []
          },
          "execution_count": 14
        }
      ]
    },
    {
      "cell_type": "code",
      "metadata": {
        "colab": {
          "base_uri": "https://localhost:8080/"
        },
        "id": "A3bX_p_LREBF",
        "outputId": "7782ea55-5c76-44c6-d0a0-d7c5197b1bcf"
      },
      "source": [
        "bisection2(math.sin, 4*pi/2,pi/2+.1,300)"
      ],
      "execution_count": null,
      "outputs": [
        {
          "output_type": "execute_result",
          "data": {
            "text/plain": [
              "[3.1415926535897936, 3.141592653589793]"
            ]
          },
          "metadata": {
            "tags": []
          },
          "execution_count": 15
        }
      ]
    },
    {
      "cell_type": "markdown",
      "metadata": {
        "id": "rLK5TwoOkBSo"
      },
      "source": [
        "# False Position and Lagrange Interpolation\r\n"
      ]
    },
    {
      "cell_type": "markdown",
      "metadata": {
        "id": "7Cs67U-ykEks"
      },
      "source": [
        "For the false position algorithm, <br> we have, <br>\r\n",
        "\r\n",
        "$$\r\n",
        "x_n = \\frac{x_U f(x_L)-x_L f(x_U)}{x_L-x_U}\r\n",
        "$$"
      ]
    },
    {
      "cell_type": "code",
      "metadata": {
        "id": "ps_kkef9kGxA"
      },
      "source": [
        "def newValue(function, Larger, Smaller):\r\n",
        "  x = (Larger*function(Smaller)-Smaller*function(Larger))/(function(Smaller)-function(Larger))\r\n",
        "  return x\r\n",
        "\r\n",
        "def positive(function,Larger,Smaller):\r\n",
        "  xNew = newValue(function,Larger,Smaller)\r\n",
        "  if function(Larger)*function(xNew)< 0:\r\n",
        "    return [Larger, xNew]\r\n",
        "  if function(Larger)*function(xNew)>0:\r\n",
        "    return [xNew,Smaller]\r\n",
        "  if function(Larger)*function(xNew)==0:\r\n",
        "    return [xNew,xNew]\r\n",
        "\r\n",
        "def falsePosition(function, initialLarger, initialSmaller, maxIterations):\r\n",
        "  x = [initialLarger,initialSmaller]\r\n",
        "  for i in range(maxIterations):\r\n",
        "    if x[0] == x[1]:\r\n",
        "      return x[0]\r\n",
        "    else:\r\n",
        "      x = positive(function,x[0],x[1])\r\n",
        "  return x\r\n",
        "\r\n"
      ],
      "execution_count": null,
      "outputs": []
    },
    {
      "cell_type": "code",
      "metadata": {
        "id": "3bEuykr2kJYo",
        "colab": {
          "base_uri": "https://localhost:8080/"
        },
        "outputId": "ad514351-7934-431b-b47d-9b928807b488"
      },
      "source": [
        "falsePosition(math.sin,3*pi/4,-pi,1000)"
      ],
      "execution_count": null,
      "outputs": [
        {
          "output_type": "execute_result",
          "data": {
            "text/plain": [
              "-0.0"
            ]
          },
          "metadata": {
            "tags": []
          },
          "execution_count": 17
        }
      ]
    },
    {
      "cell_type": "markdown",
      "metadata": {
        "id": "_RvFLYZMkL57"
      },
      "source": [
        "Now, we will make a graph to clearly visualize Lagrange Interpolator"
      ]
    },
    {
      "cell_type": "code",
      "metadata": {
        "colab": {
          "base_uri": "https://localhost:8080/",
          "height": 281
        },
        "id": "NwzHQCDdkNmy",
        "outputId": "6826c0bd-010c-4acb-f0a0-adef614121bb"
      },
      "source": [
        "import matplotlib.pyplot as plt\r\n",
        "import numpy as np\r\n",
        "\r\n",
        "x = np.arange( -5,3,.0001)\r\n",
        "plt.scatter(choosenInputs,Outputs)\r\n",
        "plt.plot(x, np.sin(x))\r\n",
        "plt.title('Graph of Lagrange Interpolator')\r\n",
        "plt.legend(['Lagrange Interpolator'])\r\n",
        "\r\n",
        "plt.show()"
      ],
      "execution_count": null,
      "outputs": [
        {
          "output_type": "display_data",
          "data": {
            "image/png": "[encoded data removed]",
            "text/plain": [
              "<Figure size 432x288 with 1 Axes>"
            ]
          },
          "metadata": {
            "tags": [],
            "needs_background": "light"
          }
        }
      ]
    },
    {
      "cell_type": "markdown",
      "metadata": {
        "id": "Ybj9EBbTkSHg"
      },
      "source": [
        "Now, it's time for us to convert the lagrange Interpolator into an anoynomous function. Anynomous function does not have name and the arguments are already passed. Let's see out first root near 0.\r\n",
        "\r\n"
      ]
    },
    {
      "cell_type": "code",
      "metadata": {
        "id": "TUN220ltkTUb",
        "colab": {
          "base_uri": "https://localhost:8080/"
        },
        "outputId": "92ae79c8-6581-4e12-dc17-2947ff3beb3c"
      },
      "source": [
        "lint = lambda x: lagrangeInterpolator(choosenInputs,Outputs,x)\r\n",
        "falsePosition(lint,pi/2,-pi/3,20000)"
      ],
      "execution_count": null,
      "outputs": [
        {
          "output_type": "execute_result",
          "data": {
            "text/plain": [
              "0.029307164708091676"
            ]
          },
          "metadata": {
            "tags": []
          },
          "execution_count": 19
        }
      ]
    },
    {
      "cell_type": "code",
      "metadata": {
        "id": "L9rV4-Q1kW_M",
        "colab": {
          "base_uri": "https://localhost:8080/"
        },
        "outputId": "3e5f61a9-e7c4-46e2-eff1-15d9f1d73203"
      },
      "source": [
        "falsePosition(lint,-3,-5,20000)"
      ],
      "execution_count": null,
      "outputs": [
        {
          "output_type": "execute_result",
          "data": {
            "text/plain": [
              "-4.932753991709081"
            ]
          },
          "metadata": {
            "tags": []
          },
          "execution_count": 20
        }
      ]
    },
    {
      "cell_type": "code",
      "metadata": {
        "id": "akd7H80FkYeQ",
        "colab": {
          "base_uri": "https://localhost:8080/"
        },
        "outputId": "483d2458-714c-4649-b818-6021da9357ae"
      },
      "source": [
        "falsePosition(lint,3,1,20000)"
      ],
      "execution_count": null,
      "outputs": [
        {
          "output_type": "execute_result",
          "data": {
            "text/plain": [
              "[2.798688286258241, 2.7986882862582405]"
            ]
          },
          "metadata": {
            "tags": []
          },
          "execution_count": 21
        }
      ]
    }
  ]
}