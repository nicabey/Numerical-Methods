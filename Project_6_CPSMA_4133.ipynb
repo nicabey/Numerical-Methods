{
  "nbformat": 4,
  "nbformat_minor": 0,
  "metadata": {
    "colab": {
      "name": "Project_6_CPSMA_4133",
      "provenance": [],
      "authorship_tag": "ABX9TyMw9omUJL39+8t7ygbKOZeS",
      "include_colab_link": true
    },
    "kernelspec": {
      "name": "python3",
      "display_name": "Python 3"
    }
  },
  "cells": [
    {
      "cell_type": "markdown",
      "metadata": {
        "id": "view-in-github",
        "colab_type": "text"
      },
      "source": [
        "<a href=\"https://colab.research.google.com/github/nicabey/Numerical-Methods/blob/main/Project_6_CPSMA_4133.ipynb\" target=\"_parent\"><img src=\"https://colab.research.google.com/assets/colab-badge.svg\" alt=\"Open In Colab\"/></a>"
      ]
    },
    {
      "cell_type": "code",
      "metadata": {
        "id": "eg2hVkSE2EaE"
      },
      "source": [
        ""
      ],
      "execution_count": null,
      "outputs": []
    },
    {
      "cell_type": "markdown",
      "metadata": {
        "id": "aukawt5J2I-w"
      },
      "source": [
        "##Project 6 - Regression\r\n",
        "Numerical Methods\r\n",
        "\r\n",
        "Dr. Jacob\r\n",
        "\r\n",
        "Nichole Beyer, Laxman Bista \r\n",
        "\r\n"
      ]
    },
    {
      "cell_type": "markdown",
      "metadata": {
        "id": "IHvkTMg92nF7"
      },
      "source": [
        "Linear Regression is a basic and commonly used type of predictive analysis. The overall idea of regression is to examine two things: <br>\r\n",
        "- Does a set of predictor variables do a good job in predicting an outcome variable\r\n",
        "- Which variables in particular are significant predictors of the outcome variable and in what way do they indicated by the magnitude and sign of the beta estimates impact the outcome variable.\r\n",
        "\r\n",
        "In simple words regression is the relationship between dependent variable and independent variables.\r\n"
      ]
    },
    {
      "cell_type": "code",
      "metadata": {
        "colab": {
          "base_uri": "https://localhost:8080/"
        },
        "id": "e-ZKuntI2fkx",
        "outputId": "e6f7cc66-e21b-4a4b-901f-b9ba64b8b99f"
      },
      "source": [
        "# Packages\r\n",
        "\r\n",
        "import numpy as np    #array processing package\r\n",
        "from scipy import stats     #used for scientific calculations\r\n",
        "import matplotlib.pyplot as plt     #used to plot the data \r\n",
        "import pandas as pa    #used to add datastructures\r\n",
        "\r\n",
        "%matplotlib inline #sets the backend of matplotlib to the 'inline' backend"
      ],
      "execution_count": 1,
      "outputs": [
        {
          "output_type": "stream",
          "text": [
            "UsageError: unrecognized arguments: #sets the backend of matplotlib to the 'inline' backend\n"
          ],
          "name": "stderr"
        }
      ]
    },
    {
      "cell_type": "markdown",
      "metadata": {
        "id": "t4F9iSdq3Nrq"
      },
      "source": [
        "# DATA\r\n",
        "We are fetching raw data from the github repository of one of our group members, Nichole Beyer. She retrevied the dataset from https://www.hockey-reference.com/teams/WSH/skaters.html  on 2/20/2020. \r\n",
        "<br> \r\n",
        "Here, we are trying to show the relationship between Goals, Assists and Points. Here Goals and Assists are independent variables whereas points is a dependent variable.\r\n",
        "<br>\r\n",
        "<br>\r\n",
        "All in all, linear regression is the relationship between independent variables and dependent variable.\r\n",
        "<br>\r\n",
        "We are fetching data from this github link: https://raw.githubusercontent.com/nicabey/Numerical-Methods/main/Capitals%20all%20time%20.csv\r\n"
      ]
    },
    {
      "cell_type": "code",
      "metadata": {
        "id": "AzInJwo6Y4si"
      },
      "source": [
        "data = pa.read_csv('https://raw.githubusercontent.com/nicabey/Numerical-Methods/main/Capitals%20all%20time%20.csv')"
      ],
      "execution_count": 3,
      "outputs": []
    },
    {
      "cell_type": "code",
      "metadata": {
        "colab": {
          "base_uri": "https://localhost:8080/",
          "height": 593
        },
        "id": "9vYtO-063HmR",
        "outputId": "2cc2ac30-f9b5-4c1f-ab24-a080c77c2d28"
      },
      "source": [
        "data\r\n"
      ],
      "execution_count": 4,
      "outputs": [
        {
          "output_type": "execute_result",
          "data": {
            "text/html": [
              "<div>\n",
              "<style scoped>\n",
              "    .dataframe tbody tr th:only-of-type {\n",
              "        vertical-align: middle;\n",
              "    }\n",
              "\n",
              "    .dataframe tbody tr th {\n",
              "        vertical-align: top;\n",
              "    }\n",
              "\n",
              "    .dataframe thead th {\n",
              "        text-align: right;\n",
              "    }\n",
              "</style>\n",
              "<table border=\"1\" class=\"dataframe\">\n",
              "  <thead>\n",
              "    <tr style=\"text-align: right;\">\n",
              "      <th></th>\n",
              "      <th>Rk</th>\n",
              "      <th>Player</th>\n",
              "      <th>From</th>\n",
              "      <th>To</th>\n",
              "      <th>Yrs</th>\n",
              "      <th>GP</th>\n",
              "      <th>G</th>\n",
              "      <th>A</th>\n",
              "      <th>PTS</th>\n",
              "      <th>+/-</th>\n",
              "      <th>PIM</th>\n",
              "      <th>EV</th>\n",
              "      <th>PP</th>\n",
              "      <th>SH</th>\n",
              "      <th>GW</th>\n",
              "      <th>EV.1</th>\n",
              "      <th>PP.1</th>\n",
              "      <th>SH.1</th>\n",
              "      <th>S</th>\n",
              "      <th>S%</th>\n",
              "      <th>TOI</th>\n",
              "      <th>ATOI</th>\n",
              "    </tr>\n",
              "  </thead>\n",
              "  <tbody>\n",
              "    <tr>\n",
              "      <th>0</th>\n",
              "      <td>1</td>\n",
              "      <td>Keith Acton</td>\n",
              "      <td>1994</td>\n",
              "      <td>1994</td>\n",
              "      <td>1</td>\n",
              "      <td>6</td>\n",
              "      <td>0</td>\n",
              "      <td>0</td>\n",
              "      <td>0</td>\n",
              "      <td>-4</td>\n",
              "      <td>21</td>\n",
              "      <td>0</td>\n",
              "      <td>0</td>\n",
              "      <td>0</td>\n",
              "      <td>0</td>\n",
              "      <td>0</td>\n",
              "      <td>0</td>\n",
              "      <td>0</td>\n",
              "      <td>2</td>\n",
              "      <td>0.0</td>\n",
              "      <td>NaN</td>\n",
              "      <td>NaN</td>\n",
              "    </tr>\n",
              "    <tr>\n",
              "      <th>1</th>\n",
              "      <td>2</td>\n",
              "      <td>Greg Adams</td>\n",
              "      <td>1984</td>\n",
              "      <td>1988</td>\n",
              "      <td>5</td>\n",
              "      <td>330</td>\n",
              "      <td>55</td>\n",
              "      <td>98</td>\n",
              "      <td>153</td>\n",
              "      <td>37</td>\n",
              "      <td>694</td>\n",
              "      <td>47</td>\n",
              "      <td>8</td>\n",
              "      <td>0</td>\n",
              "      <td>3</td>\n",
              "      <td>77</td>\n",
              "      <td>21</td>\n",
              "      <td>0</td>\n",
              "      <td>450</td>\n",
              "      <td>12.2</td>\n",
              "      <td>NaN</td>\n",
              "      <td>NaN</td>\n",
              "    </tr>\n",
              "    <tr>\n",
              "      <th>2</th>\n",
              "      <td>3</td>\n",
              "      <td>Jason Allison</td>\n",
              "      <td>1994</td>\n",
              "      <td>1997</td>\n",
              "      <td>4</td>\n",
              "      <td>86</td>\n",
              "      <td>7</td>\n",
              "      <td>22</td>\n",
              "      <td>29</td>\n",
              "      <td>-8</td>\n",
              "      <td>33</td>\n",
              "      <td>4</td>\n",
              "      <td>3</td>\n",
              "      <td>0</td>\n",
              "      <td>1</td>\n",
              "      <td>15</td>\n",
              "      <td>7</td>\n",
              "      <td>0</td>\n",
              "      <td>103</td>\n",
              "      <td>6.8</td>\n",
              "      <td>NaN</td>\n",
              "      <td>NaN</td>\n",
              "    </tr>\n",
              "    <tr>\n",
              "      <th>3</th>\n",
              "      <td>4</td>\n",
              "      <td>Karl Alzner</td>\n",
              "      <td>2009</td>\n",
              "      <td>2017</td>\n",
              "      <td>9</td>\n",
              "      <td>591</td>\n",
              "      <td>19</td>\n",
              "      <td>98</td>\n",
              "      <td>117</td>\n",
              "      <td>61</td>\n",
              "      <td>177</td>\n",
              "      <td>19</td>\n",
              "      <td>0</td>\n",
              "      <td>0</td>\n",
              "      <td>2</td>\n",
              "      <td>94</td>\n",
              "      <td>2</td>\n",
              "      <td>2</td>\n",
              "      <td>529</td>\n",
              "      <td>3.6</td>\n",
              "      <td>11939.0</td>\n",
              "      <td>20:12</td>\n",
              "    </tr>\n",
              "    <tr>\n",
              "      <th>4</th>\n",
              "      <td>5</td>\n",
              "      <td>Murray Anderson</td>\n",
              "      <td>1975</td>\n",
              "      <td>1975</td>\n",
              "      <td>1</td>\n",
              "      <td>40</td>\n",
              "      <td>0</td>\n",
              "      <td>1</td>\n",
              "      <td>1</td>\n",
              "      <td>-40</td>\n",
              "      <td>68</td>\n",
              "      <td>0</td>\n",
              "      <td>0</td>\n",
              "      <td>0</td>\n",
              "      <td>0</td>\n",
              "      <td>1</td>\n",
              "      <td>0</td>\n",
              "      <td>0</td>\n",
              "      <td>23</td>\n",
              "      <td>0.0</td>\n",
              "      <td>NaN</td>\n",
              "      <td>NaN</td>\n",
              "    </tr>\n",
              "    <tr>\n",
              "      <th>...</th>\n",
              "      <td>...</td>\n",
              "      <td>...</td>\n",
              "      <td>...</td>\n",
              "      <td>...</td>\n",
              "      <td>...</td>\n",
              "      <td>...</td>\n",
              "      <td>...</td>\n",
              "      <td>...</td>\n",
              "      <td>...</td>\n",
              "      <td>...</td>\n",
              "      <td>...</td>\n",
              "      <td>...</td>\n",
              "      <td>...</td>\n",
              "      <td>...</td>\n",
              "      <td>...</td>\n",
              "      <td>...</td>\n",
              "      <td>...</td>\n",
              "      <td>...</td>\n",
              "      <td>...</td>\n",
              "      <td>...</td>\n",
              "      <td>...</td>\n",
              "      <td>...</td>\n",
              "    </tr>\n",
              "    <tr>\n",
              "      <th>494</th>\n",
              "      <td>495</td>\n",
              "      <td>Bryan Watson</td>\n",
              "      <td>1977</td>\n",
              "      <td>1979</td>\n",
              "      <td>3</td>\n",
              "      <td>155</td>\n",
              "      <td>4</td>\n",
              "      <td>26</td>\n",
              "      <td>30</td>\n",
              "      <td>-25</td>\n",
              "      <td>294</td>\n",
              "      <td>3</td>\n",
              "      <td>0</td>\n",
              "      <td>1</td>\n",
              "      <td>0</td>\n",
              "      <td>26</td>\n",
              "      <td>0</td>\n",
              "      <td>0</td>\n",
              "      <td>125</td>\n",
              "      <td>3.2</td>\n",
              "      <td>NaN</td>\n",
              "      <td>NaN</td>\n",
              "    </tr>\n",
              "    <tr>\n",
              "      <th>495</th>\n",
              "      <td>496</td>\n",
              "      <td>Mike Weber</td>\n",
              "      <td>2016</td>\n",
              "      <td>2016</td>\n",
              "      <td>1</td>\n",
              "      <td>10</td>\n",
              "      <td>0</td>\n",
              "      <td>0</td>\n",
              "      <td>0</td>\n",
              "      <td>-1</td>\n",
              "      <td>28</td>\n",
              "      <td>0</td>\n",
              "      <td>0</td>\n",
              "      <td>0</td>\n",
              "      <td>0</td>\n",
              "      <td>0</td>\n",
              "      <td>0</td>\n",
              "      <td>0</td>\n",
              "      <td>12</td>\n",
              "      <td>0.0</td>\n",
              "      <td>140.0</td>\n",
              "      <td>13:59</td>\n",
              "    </tr>\n",
              "    <tr>\n",
              "      <th>496</th>\n",
              "      <td>497</td>\n",
              "      <td>Casey Wellman</td>\n",
              "      <td>2014</td>\n",
              "      <td>2014</td>\n",
              "      <td>1</td>\n",
              "      <td>13</td>\n",
              "      <td>2</td>\n",
              "      <td>1</td>\n",
              "      <td>3</td>\n",
              "      <td>3</td>\n",
              "      <td>0</td>\n",
              "      <td>2</td>\n",
              "      <td>0</td>\n",
              "      <td>0</td>\n",
              "      <td>0</td>\n",
              "      <td>1</td>\n",
              "      <td>0</td>\n",
              "      <td>0</td>\n",
              "      <td>15</td>\n",
              "      <td>13.3</td>\n",
              "      <td>122.0</td>\n",
              "      <td>9:22</td>\n",
              "    </tr>\n",
              "    <tr>\n",
              "      <th>497</th>\n",
              "      <td>498</td>\n",
              "      <td>Patrick Wey</td>\n",
              "      <td>2014</td>\n",
              "      <td>2014</td>\n",
              "      <td>1</td>\n",
              "      <td>9</td>\n",
              "      <td>0</td>\n",
              "      <td>3</td>\n",
              "      <td>3</td>\n",
              "      <td>0</td>\n",
              "      <td>5</td>\n",
              "      <td>0</td>\n",
              "      <td>0</td>\n",
              "      <td>0</td>\n",
              "      <td>0</td>\n",
              "      <td>3</td>\n",
              "      <td>0</td>\n",
              "      <td>0</td>\n",
              "      <td>5</td>\n",
              "      <td>0.0</td>\n",
              "      <td>131.0</td>\n",
              "      <td>14:35</td>\n",
              "    </tr>\n",
              "    <tr>\n",
              "      <th>498</th>\n",
              "      <td>499</td>\n",
              "      <td>Tony White</td>\n",
              "      <td>1975</td>\n",
              "      <td>1978</td>\n",
              "      <td>4</td>\n",
              "      <td>158</td>\n",
              "      <td>37</td>\n",
              "      <td>28</td>\n",
              "      <td>65</td>\n",
              "      <td>-60</td>\n",
              "      <td>100</td>\n",
              "      <td>27</td>\n",
              "      <td>9</td>\n",
              "      <td>1</td>\n",
              "      <td>5</td>\n",
              "      <td>23</td>\n",
              "      <td>4</td>\n",
              "      <td>1</td>\n",
              "      <td>301</td>\n",
              "      <td>12.3</td>\n",
              "      <td>NaN</td>\n",
              "      <td>NaN</td>\n",
              "    </tr>\n",
              "  </tbody>\n",
              "</table>\n",
              "<p>499 rows × 22 columns</p>\n",
              "</div>"
            ],
            "text/plain": [
              "      Rk           Player  From    To  Yrs  ...  SH.1    S    S%      TOI   ATOI\n",
              "0      1      Keith Acton  1994  1994    1  ...     0    2   0.0      NaN    NaN\n",
              "1      2       Greg Adams  1984  1988    5  ...     0  450  12.2      NaN    NaN\n",
              "2      3    Jason Allison  1994  1997    4  ...     0  103   6.8      NaN    NaN\n",
              "3      4      Karl Alzner  2009  2017    9  ...     2  529   3.6  11939.0  20:12\n",
              "4      5  Murray Anderson  1975  1975    1  ...     0   23   0.0      NaN    NaN\n",
              "..   ...              ...   ...   ...  ...  ...   ...  ...   ...      ...    ...\n",
              "494  495     Bryan Watson  1977  1979    3  ...     0  125   3.2      NaN    NaN\n",
              "495  496       Mike Weber  2016  2016    1  ...     0   12   0.0    140.0  13:59\n",
              "496  497    Casey Wellman  2014  2014    1  ...     0   15  13.3    122.0   9:22\n",
              "497  498      Patrick Wey  2014  2014    1  ...     0    5   0.0    131.0  14:35\n",
              "498  499       Tony White  1975  1978    4  ...     1  301  12.3      NaN    NaN\n",
              "\n",
              "[499 rows x 22 columns]"
            ]
          },
          "metadata": {
            "tags": []
          },
          "execution_count": 4
        }
      ]
    },
    {
      "cell_type": "markdown",
      "metadata": {
        "id": "1smK9ozR26hj"
      },
      "source": [
        "# Plotting Data\r\n",
        "Here,\r\n",
        "<br>\r\n",
        "G: Goals\r\n",
        "<br>\r\n",
        "A: Assists\r\n",
        "<br>\r\n",
        "PTS: Points\r\n",
        "<br>\r\n",
        "Let's show the relationship between G, A, and PTS "
      ]
    },
    {
      "cell_type": "code",
      "metadata": {
        "colab": {
          "base_uri": "https://localhost:8080/",
          "height": 264
        },
        "id": "NY2JKukiCkMg",
        "outputId": "e56932ed-088f-46bf-b4da-53c76b22dbec"
      },
      "source": [
        "plt.scatter(data[\"G\"] + data[\"A\"], data[\"PTS\"]);"
      ],
      "execution_count": 86,
      "outputs": [
        {
          "output_type": "display_data",
          "data": {
            "image/png": "[encoded data removed]",
            "text/plain": [
              "<Figure size 432x288 with 1 Axes>"
            ]
          },
          "metadata": {
            "tags": [],
            "needs_background": "light"
          }
        }
      ]
    },
    {
      "cell_type": "markdown",
      "metadata": {
        "id": "VKQMmc_WDm1s"
      },
      "source": [
        "Correlation\r\n",
        "\r\n",
        "Correlation quantify the association between variables or features of a dataset.\r\n",
        "The pearsonr() Scipy function can be used to calculate the Pearson's correlation coefficient between two data samples.\r\n",
        "Syntax: scipy.stats.pearsonr(x, y)\r\n"
      ]
    },
    {
      "cell_type": "markdown",
      "metadata": {
        "id": "jU-Uyp-T1321"
      },
      "source": [
        "Now lets demonstrate graphically the relationship between Power Plays (PP) and Points. I would assume there will be a strong correllation between power plays and points."
      ]
    },
    {
      "cell_type": "code",
      "metadata": {
        "colab": {
          "base_uri": "https://localhost:8080/",
          "height": 282
        },
        "id": "-ioSw9_9DmO2",
        "outputId": "dcd95aa9-7c19-4bd1-8784-58a426b7ebf1"
      },
      "source": [
        "plt.scatter(data[\"PP\"],data[\"PTS\"])"
      ],
      "execution_count": 88,
      "outputs": [
        {
          "output_type": "execute_result",
          "data": {
            "text/plain": [
              "<matplotlib.collections.PathCollection at 0x7f537ea2c2e8>"
            ]
          },
          "metadata": {
            "tags": []
          },
          "execution_count": 88
        },
        {
          "output_type": "display_data",
          "data": {
            "image/png": "[encoded data removed]",
            "text/plain": [
              "<Figure size 432x288 with 1 Axes>"
            ]
          },
          "metadata": {
            "tags": [],
            "needs_background": "light"
          }
        }
      ]
    },
    {
      "cell_type": "code",
      "metadata": {
        "id": "7FE8INuP2SSG"
      },
      "source": [
        ""
      ],
      "execution_count": null,
      "outputs": []
    },
    {
      "cell_type": "code",
      "metadata": {
        "id": "1ytELjXMcM3l",
        "colab": {
          "base_uri": "https://localhost:8080/"
        },
        "outputId": "2e51a973-ee3e-4c1a-e223-f92b7bb00dff"
      },
      "source": [
        "stats.pearsonr(data[\"PP\"],data[\"Rk\"]) #we can see they have strong correlation"
      ],
      "execution_count": 7,
      "outputs": [
        {
          "output_type": "execute_result",
          "data": {
            "text/plain": [
              "(0.9188264932828908, 8.203099800884388e-203)"
            ]
          },
          "metadata": {
            "tags": []
          },
          "execution_count": 7
        }
      ]
    },
    {
      "cell_type": "markdown",
      "metadata": {
        "id": "dLY8GlWQDvbl"
      },
      "source": [
        "A linear Regression Line has an equation of the form \r\n",
        "<br>\r\n",
        "Y = a + bX, \r\n",
        "<br>where X is the explanatory variable and Y is a dependent variable. The slope of line is b, and a is the intercept.\r\n",
        "\r\n",
        "<br>\r\n",
        "$$\r\n",
        "b=\\frac{\\sum x_i y_i -n \\bar x \\bar y}{\\sum x_i^2 - n\\bar x ^2}\r\n",
        "$$\r\n",
        "and\r\n",
        "$$\r\n",
        "a = \\bar y - b \\bar x\r\n",
        "\r\n",
        "$$"
      ]
    },
    {
      "cell_type": "code",
      "metadata": {
        "id": "E0R-Fk16Dup0"
      },
      "source": [
        "def sum(list):\r\n",
        "  total = 0\r\n",
        "  for i in list:\r\n",
        "    total = total + i\r\n",
        "  if i == \"NA\":\r\n",
        "      i== 0\r\n",
        "  return total\r\n",
        "\r\n",
        "def squareAndSum(list1,list2):\r\n",
        "  total = 0\r\n",
        "  for i in range(len(list1)):\r\n",
        "    total = total + list1[i]*list2[i]\r\n",
        "    if i == \"NA\":\r\n",
        "      i== 0\r\n",
        "  return total\r\n",
        "##I have included in both functions the possibility of NA in each function, if this value appears instead it will be replaced with a zero, this is to safeguard my code from errors. "
      ],
      "execution_count": 118,
      "outputs": []
    },
    {
      "cell_type": "code",
      "metadata": {
        "colab": {
          "base_uri": "https://localhost:8080/"
        },
        "id": "o97y79eN7Utx",
        "outputId": "a6934cfd-369c-4e73-ab4d-58d59567f755"
      },
      "source": [
        "## Lets ceck and see if our functions work right...\r\n",
        "##sum(data[\"Rk\"])\r\n",
        "print(sum(data[\"PTS\"]))\r\n",
        "\r\n",
        "squareAndSum(data[\"PTS\"],data[\"PTS\"])\r\n",
        "print(squareAndSum(data[\"PTS\"],data[\"PTS\"]))\r\n",
        "##They do! Yay!\r\n"
      ],
      "execution_count": 117,
      "outputs": [
        {
          "output_type": "stream",
          "text": [
            "29105\n",
            "9847559\n"
          ],
          "name": "stdout"
        }
      ]
    },
    {
      "cell_type": "code",
      "metadata": {
        "id": "1oBIpicm80PN"
      },
      "source": [
        "##regression by hand isnt super fun i dont really like it... Using R is quite easy and i wish i was doing this in r :("
      ],
      "execution_count": null,
      "outputs": []
    },
    {
      "cell_type": "markdown",
      "metadata": {
        "id": "Ws50QkfG9OcY"
      },
      "source": [
        "Next we will be putting together our regression equation using the functions we have defined. \r\n",
        "our regression is in the form \r\n",
        "$$\\hat y = b+ax$$\r\n",
        "\r\n",
        "We will compute $b$ by \r\n",
        "$$b=\\frac{n*\\sum xy - \\sum x \\sum y}{n*\\sum x^2 - (\\sum x) ^2}$$\r\n",
        "//\r\n",
        "\r\n",
        "$$a=\\frac{n*\\sum y \\sum x^2-\\sum x\\sum xy}{n*\\sum x^2 - (\\sum x) ^2}$$"
      ]
    },
    {
      "cell_type": "code",
      "metadata": {
        "id": "LXq6aXCoexvj"
      },
      "source": [
        "n = len(data[\"G\"])\r\n",
        "xbar = sum(data[\"G\"])/n\r\n",
        "ybar = sum(data[\"PTS\"])/n\r\n",
        "xy = squareAndSum(data[\"G\"],data[\"PTS\"])\r\n",
        "xx = squareAndSum(data[\"G\"],data[\"G\"])\r\n",
        "\r\n",
        "b = (xy-n*xbar*ybar)/(xx-n*xbar**2)\r\n",
        "a = ybar - b*xbar"
      ],
      "execution_count": 116,
      "outputs": []
    },
    {
      "cell_type": "code",
      "metadata": {
        "id": "UdyyD39afS_5"
      },
      "source": [
        "def lm(var,a_1,b_1):\r\n",
        "  return var*a_1+b_1"
      ],
      "execution_count": 119,
      "outputs": []
    },
    {
      "cell_type": "code",
      "metadata": {
        "colab": {
          "base_uri": "https://localhost:8080/"
        },
        "id": "-BmB3lXySTAB",
        "outputId": "fc0a262a-6e61-40df-e295-2b45520ac830"
      },
      "source": [
        "print(a)\r\n",
        "print(b)"
      ],
      "execution_count": 120,
      "outputs": [
        {
          "output_type": "stream",
          "text": [
            "10.262557444436808\n",
            "2.2023860271098283\n"
          ],
          "name": "stdout"
        }
      ]
    },
    {
      "cell_type": "markdown",
      "metadata": {
        "id": "lEFqdSwKSaEu"
      },
      "source": [
        "Now, let's get the value for all the components of regression using a package\r\n",
        "scipy.stats.linregress(x,y)"
      ]
    },
    {
      "cell_type": "code",
      "metadata": {
        "colab": {
          "base_uri": "https://localhost:8080/"
        },
        "id": "q5rGeGrKSbpi",
        "outputId": "c7431384-6730-4430-b8ab-ae9cdfcf85c1"
      },
      "source": [
        "stats.linregress(data[\"G\"],data[\"PTS\"])"
      ],
      "execution_count": 115,
      "outputs": [
        {
          "output_type": "execute_result",
          "data": {
            "text/plain": [
              "LinregressResult(slope=2.202386027109832, intercept=10.26255744443673, rvalue=0.9523729895760771, pvalue=1.682871785764268e-258, stderr=0.031631241281408526)"
            ]
          },
          "metadata": {
            "tags": []
          },
          "execution_count": 115
        }
      ]
    },
    {
      "cell_type": "markdown",
      "metadata": {
        "id": "xcooFYm1Slyu"
      },
      "source": [
        "Now, let's find the Linear Regression where we need a slope 'm1' and a intercept 'b1'\r\n"
      ]
    },
    {
      "cell_type": "code",
      "metadata": {
        "id": "2iHcA_JlhmIp"
      },
      "source": [
        "m1 = stats.linregress(data[\"G\"],data[\"PTS\"])[0]\r\n",
        "b1 = stats.linregress(data[\"G\"],data[\"PTS\"])[1]\r\n",
        "def y(x):\r\n",
        "    return(m1*x+b1)"
      ],
      "execution_count": 124,
      "outputs": []
    },
    {
      "cell_type": "code",
      "metadata": {
        "colab": {
          "base_uri": "https://localhost:8080/"
        },
        "id": "lSWs2_-9TP14",
        "outputId": "e07b8854-b184-41a0-c393-984dc99b29b0"
      },
      "source": [
        "y(3)"
      ],
      "execution_count": 125,
      "outputs": [
        {
          "output_type": "execute_result",
          "data": {
            "text/plain": [
              "16.869715525766225"
            ]
          },
          "metadata": {
            "tags": []
          },
          "execution_count": 125
        }
      ]
    },
    {
      "cell_type": "code",
      "metadata": {
        "colab": {
          "base_uri": "https://localhost:8080/",
          "height": 282
        },
        "id": "qQz3tggsT7vo",
        "outputId": "aedc2e89-ef44-4747-80ee-55bf4b24ca08"
      },
      "source": [
        "x = np.arange( 0,500,1)\r\n",
        "plt.scatter(data[\"G\"],data[\"PTS\"])\r\n",
        "plt.plot(x,y(x))"
      ],
      "execution_count": 126,
      "outputs": [
        {
          "output_type": "execute_result",
          "data": {
            "text/plain": [
              "[<matplotlib.lines.Line2D at 0x7f537e827080>]"
            ]
          },
          "metadata": {
            "tags": []
          },
          "execution_count": 126
        },
        {
          "output_type": "display_data",
          "data": {
            "image/png": "[encoded data removed]",
            "text/plain": [
              "<Figure size 432x288 with 1 Axes>"
            ]
          },
          "metadata": {
            "tags": [],
            "needs_background": "light"
          }
        }
      ]
    },
    {
      "cell_type": "markdown",
      "metadata": {
        "id": "j6hCpO6sU7Hk"
      },
      "source": [
        "## **Residual Distance**\r\n",
        "\r\n",
        "*A* residual is the vertical distance between a data point and the regression line. They are positive if they are above the regression line and negative if theyare below the regression line.\r\n",
        "\r\n",
        "**MOTTO**: Our job is to minimize the residual distance and get the most effective linear line among the distributed data.\r\n",
        "\r\n",
        "Let's find the sum of the residuals"
      ]
    },
    {
      "cell_type": "code",
      "metadata": {
        "id": "aqq2X_vKivO1"
      },
      "source": [
        "s = 0\r\n",
        "for i in range (0,len(data[\"G\"])):\r\n",
        "    s = s+y(data[\"G\"][i])-data[\"Rk\"][i]"
      ],
      "execution_count": 127,
      "outputs": []
    },
    {
      "cell_type": "code",
      "metadata": {
        "colab": {
          "base_uri": "https://localhost:8080/"
        },
        "id": "9zzH6YwfVfff",
        "outputId": "40ace859-cfd5-482d-a3c0-13824d0a42bc"
      },
      "source": [
        "print(s) #our motto is to get the minimal value "
      ],
      "execution_count": 128,
      "outputs": [
        {
          "output_type": "stream",
          "text": [
            "-95645.00000000013\n"
          ],
          "name": "stdout"
        }
      ]
    },
    {
      "cell_type": "code",
      "metadata": {
        "id": "deX7IlECVw1f"
      },
      "source": [
        "square = 0\r\n",
        "for i in range (0,len(data[\"G\"])):\r\n",
        "    square = square+(y(data[\"G\"][i])-data[\"Rk\"][i])**2"
      ],
      "execution_count": 129,
      "outputs": []
    },
    {
      "cell_type": "code",
      "metadata": {
        "colab": {
          "base_uri": "https://localhost:8080/"
        },
        "id": "EyxAGSylVypC",
        "outputId": "b67f87fd-65f2-4587-f19c-c2a2dfc1d185"
      },
      "source": [
        "square"
      ],
      "execution_count": 130,
      "outputs": [
        {
          "output_type": "execute_result",
          "data": {
            "text/plain": [
              "36796344.77459613"
            ]
          },
          "metadata": {
            "tags": []
          },
          "execution_count": 130
        }
      ]
    },
    {
      "cell_type": "markdown",
      "metadata": {
        "id": "273AxNAEWNNT"
      },
      "source": [
        "# Nonlinear Regression\r\n",
        "<br>\r\n",
        "Nonlinear Regression models work just like the linear regression models as we look over the fundamentals. We are given with n data pairs. <br>\r\n",
        "So, Non-Linear regression is a type of polynomial regression. It is simply a method to model a non linear relationship between the dependent and independent variables. It is used in place when the data shows a curvy trend."
      ]
    },
    {
      "cell_type": "code",
      "metadata": {
        "colab": {
          "base_uri": "https://localhost:8080/",
          "height": 283
        },
        "id": "CWLwbnk8WJGC",
        "outputId": "88dfc203-fea2-416e-ee79-d79e2920987d"
      },
      "source": [
        "plt.scatter(data[\"Yrs\"],data[\"GP\"])"
      ],
      "execution_count": 134,
      "outputs": [
        {
          "output_type": "execute_result",
          "data": {
            "text/plain": [
              "<matplotlib.collections.PathCollection at 0x7f537e6fd6a0>"
            ]
          },
          "metadata": {
            "tags": []
          },
          "execution_count": 134
        },
        {
          "output_type": "display_data",
          "data": {
            "image/png": "[encoded data removed]",
            "text/plain": [
              "<Figure size 432x288 with 1 Axes>"
            ]
          },
          "metadata": {
            "tags": [],
            "needs_background": "light"
          }
        }
      ]
    },
    {
      "cell_type": "markdown",
      "metadata": {
        "id": "TlHGhin5Xu-g"
      },
      "source": [
        "Now, let's perform some computations. Let's do some calculations and print a matrix from it\r\n"
      ]
    },
    {
      "cell_type": "code",
      "metadata": {
        "id": "Tr8vDKlKXyru"
      },
      "source": [
        "x = sum(data['Yrs'])\r\n",
        "x2 = squareAndSum(data['Yrs'],data['Yrs'])\r\n",
        "x3 = squareAndSum(data['Yrs']**2,data['Yrs'])\r\n",
        "x4 = squareAndSum(data['Yrs']**3,data['Yrs'])\r\n",
        "\r\n",
        "matrix = [[n,x,x2,sum(data['GP'])]\r\n",
        "          ,[x,x2,x3,squareAndSum(data['Yrs'],data['GP'])]\r\n",
        "          ,[x2,x3,x4,squareAndSum(data['Yrs']**2,data['GP'])]\r\n",
        "          ]"
      ],
      "execution_count": 133,
      "outputs": []
    },
    {
      "cell_type": "code",
      "metadata": {
        "colab": {
          "base_uri": "https://localhost:8080/"
        },
        "id": "bsH59vpTYFm-",
        "outputId": "41d355df-102e-4a94-f25e-fc080b49e4c8"
      },
      "source": [
        "matrix"
      ],
      "execution_count": 61,
      "outputs": [
        {
          "output_type": "execute_result",
          "data": {
            "text/plain": [
              "[[499, 1410, 7190, 61007],\n",
              " [1410, 7190, 56352, 390159],\n",
              " [7190, 56352, 566234, 3422119]]"
            ]
          },
          "metadata": {
            "tags": []
          },
          "execution_count": 61
        }
      ]
    },
    {
      "cell_type": "markdown",
      "metadata": {
        "id": "KNcO0UFbYKBT"
      },
      "source": [
        "gauss Jordan "
      ]
    },
    {
      "cell_type": "code",
      "metadata": {
        "id": "aARRjEeNYJAc"
      },
      "source": [
        "import math\r\n",
        "import numpy as np\r\n",
        "import scipy.linalg as la\r\n",
        "\r\n",
        "def addingRows(matrix, row, modifyrow,n):\r\n",
        "  newRow = matrix[row, :] + n*matrix[modifyrow, :]\r\n",
        "  newMatrix = []\r\n",
        "  for i in range(len(matrix)): \r\n",
        "    if i != row:\r\n",
        "      newMatrix.append(newRow)\r\n",
        "    else:\r\n",
        "        newMatrix.append(matrix[i,:])\r\n",
        "        return np.array(newMatrix)\r\n",
        "\r\n",
        "\r\n",
        "def toLeadingOne(matrix,row,column):\r\n",
        "  newMatrix =[]\r\n",
        "  for i in range(len(matrix)):\r\n",
        "    if i != row:\r\n",
        "      newMatrix.append(matrix[i,:])\r\n",
        "    else:\r\n",
        "      newMatrix.append(1/matrix[row,column]*matrix[row,:])\r\n",
        "  return np.array(newMatrix)\r\n",
        "\r\n",
        "\r\n",
        "def gaussJordan(matrix):\r\n",
        "  newMatrix = matrix\r\n",
        "  for pivot in range(len(matrix)):\r\n",
        "    newMatrix = toLeadingOne(newMatrix,pivot,pivot)\r\n",
        "    for column in range(0,pivot):\r\n",
        "      newMatrix = addRows(newMatrix,column,pivot,-newMatrix[column,pivot])\r\n",
        "    for column in range(pivot+1,len(matrix)):\r\n",
        "      newMatrix = addingRows(newMatrix,column,pivot,-newMatrix[column,pivot])\r\n",
        "  return newMatrix\r\n"
      ],
      "execution_count": 78,
      "outputs": []
    },
    {
      "cell_type": "code",
      "metadata": {
        "id": "qMIFt1NbaaxX"
      },
      "source": [
        ""
      ],
      "execution_count": 67,
      "outputs": []
    },
    {
      "cell_type": "code",
      "metadata": {
        "colab": {
          "base_uri": "https://localhost:8080/",
          "height": 292
        },
        "id": "32FiYmbeGaBR",
        "outputId": "85f4db82-a077-4779-9666-e3a7a0cb1324"
      },
      "source": [
        "gaussJordan(np.array(matrix))"
      ],
      "execution_count": 80,
      "outputs": [
        {
          "output_type": "error",
          "ename": "IndexError",
          "evalue": "ignored",
          "traceback": [
            "\u001b[0;31m---------------------------------------------------------------------------\u001b[0m",
            "\u001b[0;31mIndexError\u001b[0m                                Traceback (most recent call last)",
            "\u001b[0;32m<ipython-input-80-5287d32ee848>\u001b[0m in \u001b[0;36m<module>\u001b[0;34m()\u001b[0m\n\u001b[0;32m----> 1\u001b[0;31m \u001b[0mgaussJordan\u001b[0m\u001b[0;34m(\u001b[0m\u001b[0mnp\u001b[0m\u001b[0;34m.\u001b[0m\u001b[0marray\u001b[0m\u001b[0;34m(\u001b[0m\u001b[0mmatrix\u001b[0m\u001b[0;34m)\u001b[0m\u001b[0;34m)\u001b[0m\u001b[0;34m\u001b[0m\u001b[0;34m\u001b[0m\u001b[0m\n\u001b[0m",
            "\u001b[0;32m<ipython-input-78-0ce6ffd2570b>\u001b[0m in \u001b[0;36mgaussJordan\u001b[0;34m(matrix)\u001b[0m\n\u001b[1;32m     31\u001b[0m       \u001b[0mnewMatrix\u001b[0m \u001b[0;34m=\u001b[0m \u001b[0maddRows\u001b[0m\u001b[0;34m(\u001b[0m\u001b[0mnewMatrix\u001b[0m\u001b[0;34m,\u001b[0m\u001b[0mcolumn\u001b[0m\u001b[0;34m,\u001b[0m\u001b[0mpivot\u001b[0m\u001b[0;34m,\u001b[0m\u001b[0;34m-\u001b[0m\u001b[0mnewMatrix\u001b[0m\u001b[0;34m[\u001b[0m\u001b[0mcolumn\u001b[0m\u001b[0;34m,\u001b[0m\u001b[0mpivot\u001b[0m\u001b[0;34m]\u001b[0m\u001b[0;34m)\u001b[0m\u001b[0;34m\u001b[0m\u001b[0;34m\u001b[0m\u001b[0m\n\u001b[1;32m     32\u001b[0m     \u001b[0;32mfor\u001b[0m \u001b[0mcolumn\u001b[0m \u001b[0;32min\u001b[0m \u001b[0mrange\u001b[0m\u001b[0;34m(\u001b[0m\u001b[0mpivot\u001b[0m\u001b[0;34m+\u001b[0m\u001b[0;36m1\u001b[0m\u001b[0;34m,\u001b[0m\u001b[0mlen\u001b[0m\u001b[0;34m(\u001b[0m\u001b[0mmatrix\u001b[0m\u001b[0;34m)\u001b[0m\u001b[0;34m)\u001b[0m\u001b[0;34m:\u001b[0m\u001b[0;34m\u001b[0m\u001b[0;34m\u001b[0m\u001b[0m\n\u001b[0;32m---> 33\u001b[0;31m       \u001b[0mnewMatrix\u001b[0m \u001b[0;34m=\u001b[0m \u001b[0maddingRows\u001b[0m\u001b[0;34m(\u001b[0m\u001b[0mnewMatrix\u001b[0m\u001b[0;34m,\u001b[0m\u001b[0mcolumn\u001b[0m\u001b[0;34m,\u001b[0m\u001b[0mpivot\u001b[0m\u001b[0;34m,\u001b[0m\u001b[0;34m-\u001b[0m\u001b[0mnewMatrix\u001b[0m\u001b[0;34m[\u001b[0m\u001b[0mcolumn\u001b[0m\u001b[0;34m,\u001b[0m\u001b[0mpivot\u001b[0m\u001b[0;34m]\u001b[0m\u001b[0;34m)\u001b[0m\u001b[0;34m\u001b[0m\u001b[0;34m\u001b[0m\u001b[0m\n\u001b[0m\u001b[1;32m     34\u001b[0m   \u001b[0;32mreturn\u001b[0m \u001b[0mnewMatrix\u001b[0m\u001b[0;34m\u001b[0m\u001b[0;34m\u001b[0m\u001b[0m\n",
            "\u001b[0;31mIndexError\u001b[0m: index 2 is out of bounds for axis 0 with size 2"
          ]
        }
      ]
    },
    {
      "cell_type": "markdown",
      "metadata": {
        "id": "U6C6HmAhevth"
      },
      "source": [
        ""
      ]
    },
    {
      "cell_type": "code",
      "metadata": {
        "id": "D0mKJQ-XeuyZ"
      },
      "source": [
        ""
      ],
      "execution_count": null,
      "outputs": []
    },
    {
      "cell_type": "code",
      "metadata": {
        "id": "dpVppul1HKfy"
      },
      "source": [
        "def rowCreator(input,order):\r\n",
        "  row = []\r\n",
        "  for i in range(order+1):\r\n",
        "    row.append(input**i)\r\n",
        "  return row\r\n",
        "\r\n",
        "def matrixCreator(list, order):\r\n",
        "  matrix = []\r\n",
        "  for i in list:\r\n",
        "    matrix.append(rowCreator(i,order))\r\n",
        "  return matrix"
      ],
      "execution_count": 81,
      "outputs": []
    },
    {
      "cell_type": "code",
      "metadata": {
        "id": "3Ii6Ua36HMJi"
      },
      "source": [
        "A = np.array(matrixCreator(data['Yrs'],2))\r\n",
        "y = np.array(data['GP'])"
      ],
      "execution_count": 82,
      "outputs": []
    },
    {
      "cell_type": "code",
      "metadata": {
        "id": "V86tX4VFfMHF"
      },
      "source": [
        "np.linalg.inv(np.transpose(A)@ A)@ np.transpose(A)@ y\r\n",
        "#here we have our formatted answer"
      ],
      "execution_count": null,
      "outputs": []
    },
    {
      "cell_type": "code",
      "metadata": {
        "id": "afgQyoxAfVlp"
      },
      "source": [
        ""
      ],
      "execution_count": null,
      "outputs": []
    },
    {
      "cell_type": "markdown",
      "metadata": {
        "id": "FgWUDliUfV_m"
      },
      "source": [
        "Let's graph the above data"
      ]
    },
    {
      "cell_type": "code",
      "metadata": {
        "id": "buu18LqsHWJ-"
      },
      "source": [
        "results = np.linalg.inv(np.transpose(A)@ A)@ np.transpose(A)@ y\r\n",
        "\r\n",
        "def quadRegression(x):\r\n",
        "  return results[0]+x*results[1]+results[2]*x**2"
      ],
      "execution_count": 84,
      "outputs": []
    },
    {
      "cell_type": "markdown",
      "metadata": {
        "id": "ARDqsc9Xfrkw"
      },
      "source": [
        "*Let*'s graph the above data"
      ]
    },
    {
      "cell_type": "code",
      "metadata": {
        "id": "IlNo6CLEHXp_",
        "colab": {
          "base_uri": "https://localhost:8080/",
          "height": 283
        },
        "outputId": "9ad5fb1c-f6c0-48cc-feb4-8508a6b8759f"
      },
      "source": [
        "x = np.arange( 0,15,1)\r\n",
        "plt.scatter(data[\"Yrs\"],data[\"GP\"])\r\n",
        "plt.plot(x,quadRegression(x))"
      ],
      "execution_count": 135,
      "outputs": [
        {
          "output_type": "execute_result",
          "data": {
            "text/plain": [
              "[<matplotlib.lines.Line2D at 0x7f537e6c2f60>]"
            ]
          },
          "metadata": {
            "tags": []
          },
          "execution_count": 135
        },
        {
          "output_type": "display_data",
          "data": {
            "image/png": "[encoded data removed]",
            "text/plain": [
              "<Figure size 432x288 with 1 Axes>"
            ]
          },
          "metadata": {
            "tags": [],
            "needs_background": "light"
          }
        }
      ]
    }
  ]
}